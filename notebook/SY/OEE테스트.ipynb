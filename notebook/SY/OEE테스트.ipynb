{
 "cells": [
  {
   "cell_type": "code",
   "execution_count": 1,
   "id": "b899de95",
   "metadata": {},
   "outputs": [],
   "source": [
    "import pandas as pd\n",
    "import seaborn as sns\n",
    "import matplotlib.pyplot as plt\n",
    "\n",
    "plt.rcParams['font.family'] = 'Malgun Gothic'\n",
    "plt.rcParams['font.size'] = 10\n",
    "plt.rcParams['axes.unicode_minus'] = False"
   ]
  },
  {
   "cell_type": "code",
   "execution_count": 3,
   "id": "f806e4d8",
   "metadata": {},
   "outputs": [],
   "source": [
    "df = pd.read_csv('df_cycle1.csv')"
   ]
  },
  {
   "cell_type": "markdown",
   "id": "dfec7c5f",
   "metadata": {},
   "source": [
    "1. 시간가동율(유용성) = `가동시간 / 부하시간` \n",
    "2. 성능가동율(생산성) = `(이론 cycle time * 생산량) / 가동시간`\n",
    "3. 종합수율(양품율) = `양품수 / 투입수`"
   ]
  },
  {
   "cell_type": "markdown",
   "id": "6debc34b",
   "metadata": {},
   "source": [
    "### 🍳 시간가동율\n",
    "- 가동시간 : 설비가 실제 동작한 시간\n",
    "    - status == 2인 시간들의 총합\n",
    "- 부하시간 : 설비가 생산을 하기로 계획된 전체 시간\n",
    "    - status가 있는 시간 구간 전체"
   ]
  },
  {
   "cell_type": "code",
   "execution_count": 4,
   "id": "16686262",
   "metadata": {},
   "outputs": [],
   "source": [
    "# Timestamp를 datetime으로 변환\n",
    "df[\"Timestamp\"] = pd.to_datetime(df[\"Timestamp\"])\n",
    "\n",
    "df[\"time_diff\"] = df[\"Timestamp\"].diff()"
   ]
  },
  {
   "cell_type": "code",
   "execution_count": 5,
   "id": "09806d9d",
   "metadata": {},
   "outputs": [],
   "source": [
    "# 가동시간\n",
    "\n",
    "# STATUS == 2인 데이터 필터링\n",
    "df_status2 = df[df[\"STATUS\"] == 2].copy()\n",
    "\n",
    "# 첫 행은 NaT이므로 제거, 그 후 시간차의 합\n",
    "run_time = df_status2[\"time_diff\"].dropna().dt.total_seconds().sum()"
   ]
  },
  {
   "cell_type": "code",
   "execution_count": 6,
   "id": "fca6c132",
   "metadata": {},
   "outputs": [
    {
     "data": {
      "text/plain": [
       "np.float64(27279.0)"
      ]
     },
     "execution_count": 6,
     "metadata": {},
     "output_type": "execute_result"
    }
   ],
   "source": [
    "run_time"
   ]
  },
  {
   "cell_type": "markdown",
   "id": "e7becefa",
   "metadata": {},
   "source": [
    "- 없는 데이터 시간까지 포함해서 전혀 다른 값이 나옴\n",
    "- 기록에 없는 시간은 제거\n",
    "    - 46s"
   ]
  },
  {
   "cell_type": "code",
   "execution_count": 27,
   "id": "7093f60f",
   "metadata": {},
   "outputs": [],
   "source": [
    "# 부하시간\n",
    "\n",
    "load_time = df[\"time_diff\"].dropna().dt.total_seconds().sum()"
   ]
  },
  {
   "cell_type": "code",
   "execution_count": 28,
   "id": "47975ce3",
   "metadata": {},
   "outputs": [
    {
     "data": {
      "text/plain": [
       "np.float64(44505.0)"
      ]
     },
     "execution_count": 28,
     "metadata": {},
     "output_type": "execute_result"
    }
   ],
   "source": [
    "load_time"
   ]
  },
  {
   "cell_type": "code",
   "execution_count": 29,
   "id": "6c755e6a",
   "metadata": {},
   "outputs": [
    {
     "data": {
      "text/plain": [
       "np.float64(0.6129423660262892)"
      ]
     },
     "execution_count": 29,
     "metadata": {},
     "output_type": "execute_result"
    }
   ],
   "source": [
    "oee1 = run_time / load_time\n",
    "oee1"
   ]
  },
  {
   "cell_type": "markdown",
   "id": "7132c37c",
   "metadata": {},
   "source": [
    "### 🍳 성능가동율\n",
    "- 이론 cycle time : 한 개의 제품을 생산하는데 걸린 시간\n",
    "- 생산량 : 해당 기간 내 생산량"
   ]
  },
  {
   "cell_type": "code",
   "execution_count": 31,
   "id": "c8c5a30b",
   "metadata": {},
   "outputs": [
    {
     "data": {
      "text/html": [
       "<div>\n",
       "<style scoped>\n",
       "    .dataframe tbody tr th:only-of-type {\n",
       "        vertical-align: middle;\n",
       "    }\n",
       "\n",
       "    .dataframe tbody tr th {\n",
       "        vertical-align: top;\n",
       "    }\n",
       "\n",
       "    .dataframe thead th {\n",
       "        text-align: right;\n",
       "    }\n",
       "</style>\n",
       "<table border=\"1\" class=\"dataframe\">\n",
       "  <thead>\n",
       "    <tr style=\"text-align: right;\">\n",
       "      <th></th>\n",
       "      <th>Timestamp</th>\n",
       "      <th>OUTPUT_COUNT_DAY_1</th>\n",
       "      <th>KO6_MOTOR_SET_FREQ</th>\n",
       "      <th>CUTTING_SET_FREQ</th>\n",
       "      <th>STATUS</th>\n",
       "      <th>KO5_MOTOR_SET_FREQ</th>\n",
       "      <th>METAL_OIL_SUPPLY_PRESS_CONTR</th>\n",
       "      <th>KO4_MOTOR_SET_FREQ</th>\n",
       "      <th>KO2_MOTOR_SET_FREQ</th>\n",
       "      <th>MAIN_MOTOR_CURR</th>\n",
       "      <th>...</th>\n",
       "      <th>KO1_MOTOR_INVERTER_ALM</th>\n",
       "      <th>TRANS_POS_DOWN_SET_H</th>\n",
       "      <th>OUTPUT_COUNT_DAY_2</th>\n",
       "      <th>OUTPUT_COUNT_SUM</th>\n",
       "      <th>TRANS_POS_DOWN</th>\n",
       "      <th>TRANS_POS_RIGHT</th>\n",
       "      <th>MAIN_MOTOR_ALM</th>\n",
       "      <th>DAY_1_DIFF</th>\n",
       "      <th>CYCLE</th>\n",
       "      <th>time_diff</th>\n",
       "    </tr>\n",
       "  </thead>\n",
       "  <tbody>\n",
       "    <tr>\n",
       "      <th>0</th>\n",
       "      <td>2022-05-02 08:14:21</td>\n",
       "      <td>0.5</td>\n",
       "      <td>3000.0</td>\n",
       "      <td>3000.0</td>\n",
       "      <td>2.0</td>\n",
       "      <td>3000.0</td>\n",
       "      <td>295.200</td>\n",
       "      <td>3000.0</td>\n",
       "      <td>3000.0</td>\n",
       "      <td>4391.0</td>\n",
       "      <td>...</td>\n",
       "      <td>0.5</td>\n",
       "      <td>2000.0</td>\n",
       "      <td>6.5</td>\n",
       "      <td>55158.0</td>\n",
       "      <td>648.000</td>\n",
       "      <td>1748.66</td>\n",
       "      <td>0.0</td>\n",
       "      <td>-65533.5</td>\n",
       "      <td>1</td>\n",
       "      <td>NaT</td>\n",
       "    </tr>\n",
       "    <tr>\n",
       "      <th>1</th>\n",
       "      <td>2022-05-02 08:14:22</td>\n",
       "      <td>2.5</td>\n",
       "      <td>3000.0</td>\n",
       "      <td>3000.0</td>\n",
       "      <td>2.0</td>\n",
       "      <td>3000.0</td>\n",
       "      <td>294.000</td>\n",
       "      <td>3000.0</td>\n",
       "      <td>3000.0</td>\n",
       "      <td>4439.0</td>\n",
       "      <td>...</td>\n",
       "      <td>0.5</td>\n",
       "      <td>2000.0</td>\n",
       "      <td>8.5</td>\n",
       "      <td>55158.0</td>\n",
       "      <td>648.555</td>\n",
       "      <td>1748.14</td>\n",
       "      <td>0.0</td>\n",
       "      <td>2.0</td>\n",
       "      <td>1</td>\n",
       "      <td>0 days 00:00:01</td>\n",
       "    </tr>\n",
       "    <tr>\n",
       "      <th>2</th>\n",
       "      <td>2022-05-02 08:14:23</td>\n",
       "      <td>5.0</td>\n",
       "      <td>3000.0</td>\n",
       "      <td>3000.0</td>\n",
       "      <td>2.0</td>\n",
       "      <td>3000.0</td>\n",
       "      <td>289.700</td>\n",
       "      <td>3000.0</td>\n",
       "      <td>3000.0</td>\n",
       "      <td>5879.0</td>\n",
       "      <td>...</td>\n",
       "      <td>0.5</td>\n",
       "      <td>2000.0</td>\n",
       "      <td>11.0</td>\n",
       "      <td>55158.0</td>\n",
       "      <td>647.333</td>\n",
       "      <td>1749.44</td>\n",
       "      <td>0.0</td>\n",
       "      <td>2.5</td>\n",
       "      <td>1</td>\n",
       "      <td>0 days 00:00:01</td>\n",
       "    </tr>\n",
       "    <tr>\n",
       "      <th>3</th>\n",
       "      <td>2022-05-02 08:14:24</td>\n",
       "      <td>7.5</td>\n",
       "      <td>3000.0</td>\n",
       "      <td>3000.0</td>\n",
       "      <td>2.0</td>\n",
       "      <td>3000.0</td>\n",
       "      <td>290.200</td>\n",
       "      <td>3000.0</td>\n",
       "      <td>3000.0</td>\n",
       "      <td>4410.0</td>\n",
       "      <td>...</td>\n",
       "      <td>0.5</td>\n",
       "      <td>2000.0</td>\n",
       "      <td>13.5</td>\n",
       "      <td>55158.0</td>\n",
       "      <td>646.900</td>\n",
       "      <td>1748.66</td>\n",
       "      <td>0.0</td>\n",
       "      <td>2.5</td>\n",
       "      <td>1</td>\n",
       "      <td>0 days 00:00:01</td>\n",
       "    </tr>\n",
       "    <tr>\n",
       "      <th>4</th>\n",
       "      <td>2022-05-02 08:14:25</td>\n",
       "      <td>10.0</td>\n",
       "      <td>3000.0</td>\n",
       "      <td>3000.0</td>\n",
       "      <td>2.0</td>\n",
       "      <td>3000.0</td>\n",
       "      <td>287.750</td>\n",
       "      <td>3000.0</td>\n",
       "      <td>3000.0</td>\n",
       "      <td>6645.0</td>\n",
       "      <td>...</td>\n",
       "      <td>0.5</td>\n",
       "      <td>2000.0</td>\n",
       "      <td>16.0</td>\n",
       "      <td>55158.0</td>\n",
       "      <td>648.444</td>\n",
       "      <td>1748.44</td>\n",
       "      <td>0.0</td>\n",
       "      <td>2.5</td>\n",
       "      <td>1</td>\n",
       "      <td>0 days 00:00:01</td>\n",
       "    </tr>\n",
       "    <tr>\n",
       "      <th>...</th>\n",
       "      <td>...</td>\n",
       "      <td>...</td>\n",
       "      <td>...</td>\n",
       "      <td>...</td>\n",
       "      <td>...</td>\n",
       "      <td>...</td>\n",
       "      <td>...</td>\n",
       "      <td>...</td>\n",
       "      <td>...</td>\n",
       "      <td>...</td>\n",
       "      <td>...</td>\n",
       "      <td>...</td>\n",
       "      <td>...</td>\n",
       "      <td>...</td>\n",
       "      <td>...</td>\n",
       "      <td>...</td>\n",
       "      <td>...</td>\n",
       "      <td>...</td>\n",
       "      <td>...</td>\n",
       "      <td>...</td>\n",
       "      <td>...</td>\n",
       "    </tr>\n",
       "    <tr>\n",
       "      <th>44462</th>\n",
       "      <td>2022-05-02 20:36:02</td>\n",
       "      <td>65524.5</td>\n",
       "      <td>3000.0</td>\n",
       "      <td>3000.0</td>\n",
       "      <td>2.0</td>\n",
       "      <td>3000.0</td>\n",
       "      <td>156.100</td>\n",
       "      <td>3000.0</td>\n",
       "      <td>3000.0</td>\n",
       "      <td>4071.0</td>\n",
       "      <td>...</td>\n",
       "      <td>0.5</td>\n",
       "      <td>2000.0</td>\n",
       "      <td>65530.5</td>\n",
       "      <td>55813.0</td>\n",
       "      <td>644.500</td>\n",
       "      <td>1732.77</td>\n",
       "      <td>0.0</td>\n",
       "      <td>2.5</td>\n",
       "      <td>1</td>\n",
       "      <td>0 days 00:00:01</td>\n",
       "    </tr>\n",
       "    <tr>\n",
       "      <th>44463</th>\n",
       "      <td>2022-05-02 20:36:03</td>\n",
       "      <td>65526.5</td>\n",
       "      <td>3000.0</td>\n",
       "      <td>3000.0</td>\n",
       "      <td>2.0</td>\n",
       "      <td>3000.0</td>\n",
       "      <td>163.666</td>\n",
       "      <td>3000.0</td>\n",
       "      <td>3000.0</td>\n",
       "      <td>5457.0</td>\n",
       "      <td>...</td>\n",
       "      <td>0.5</td>\n",
       "      <td>2000.0</td>\n",
       "      <td>65532.5</td>\n",
       "      <td>55813.0</td>\n",
       "      <td>645.777</td>\n",
       "      <td>1732.75</td>\n",
       "      <td>0.0</td>\n",
       "      <td>2.0</td>\n",
       "      <td>1</td>\n",
       "      <td>0 days 00:00:01</td>\n",
       "    </tr>\n",
       "    <tr>\n",
       "      <th>44464</th>\n",
       "      <td>2022-05-02 20:36:04</td>\n",
       "      <td>65529.0</td>\n",
       "      <td>3000.0</td>\n",
       "      <td>3000.0</td>\n",
       "      <td>2.0</td>\n",
       "      <td>3000.0</td>\n",
       "      <td>170.000</td>\n",
       "      <td>3000.0</td>\n",
       "      <td>3000.0</td>\n",
       "      <td>4820.0</td>\n",
       "      <td>...</td>\n",
       "      <td>0.5</td>\n",
       "      <td>2000.0</td>\n",
       "      <td>43689.6</td>\n",
       "      <td>55813.0</td>\n",
       "      <td>645.125</td>\n",
       "      <td>1733.22</td>\n",
       "      <td>0.0</td>\n",
       "      <td>2.5</td>\n",
       "      <td>1</td>\n",
       "      <td>0 days 00:00:01</td>\n",
       "    </tr>\n",
       "    <tr>\n",
       "      <th>44465</th>\n",
       "      <td>2022-05-02 20:36:05</td>\n",
       "      <td>65531.5</td>\n",
       "      <td>3000.0</td>\n",
       "      <td>3000.0</td>\n",
       "      <td>2.0</td>\n",
       "      <td>3000.0</td>\n",
       "      <td>171.100</td>\n",
       "      <td>3000.0</td>\n",
       "      <td>3000.0</td>\n",
       "      <td>4181.0</td>\n",
       "      <td>...</td>\n",
       "      <td>0.5</td>\n",
       "      <td>2000.0</td>\n",
       "      <td>1.5</td>\n",
       "      <td>55813.0</td>\n",
       "      <td>644.888</td>\n",
       "      <td>1733.20</td>\n",
       "      <td>0.0</td>\n",
       "      <td>2.5</td>\n",
       "      <td>1</td>\n",
       "      <td>0 days 00:00:01</td>\n",
       "    </tr>\n",
       "    <tr>\n",
       "      <th>44466</th>\n",
       "      <td>2022-05-02 20:36:06</td>\n",
       "      <td>65534.0</td>\n",
       "      <td>3000.0</td>\n",
       "      <td>3000.0</td>\n",
       "      <td>2.0</td>\n",
       "      <td>3000.0</td>\n",
       "      <td>169.888</td>\n",
       "      <td>3000.0</td>\n",
       "      <td>3000.0</td>\n",
       "      <td>6298.0</td>\n",
       "      <td>...</td>\n",
       "      <td>0.5</td>\n",
       "      <td>2000.0</td>\n",
       "      <td>4.0</td>\n",
       "      <td>55813.0</td>\n",
       "      <td>645.700</td>\n",
       "      <td>1733.12</td>\n",
       "      <td>0.0</td>\n",
       "      <td>2.5</td>\n",
       "      <td>1</td>\n",
       "      <td>0 days 00:00:01</td>\n",
       "    </tr>\n",
       "  </tbody>\n",
       "</table>\n",
       "<p>44467 rows × 47 columns</p>\n",
       "</div>"
      ],
      "text/plain": [
       "                Timestamp  OUTPUT_COUNT_DAY_1  KO6_MOTOR_SET_FREQ  \\\n",
       "0     2022-05-02 08:14:21                 0.5              3000.0   \n",
       "1     2022-05-02 08:14:22                 2.5              3000.0   \n",
       "2     2022-05-02 08:14:23                 5.0              3000.0   \n",
       "3     2022-05-02 08:14:24                 7.5              3000.0   \n",
       "4     2022-05-02 08:14:25                10.0              3000.0   \n",
       "...                   ...                 ...                 ...   \n",
       "44462 2022-05-02 20:36:02             65524.5              3000.0   \n",
       "44463 2022-05-02 20:36:03             65526.5              3000.0   \n",
       "44464 2022-05-02 20:36:04             65529.0              3000.0   \n",
       "44465 2022-05-02 20:36:05             65531.5              3000.0   \n",
       "44466 2022-05-02 20:36:06             65534.0              3000.0   \n",
       "\n",
       "       CUTTING_SET_FREQ  STATUS  KO5_MOTOR_SET_FREQ  \\\n",
       "0                3000.0     2.0              3000.0   \n",
       "1                3000.0     2.0              3000.0   \n",
       "2                3000.0     2.0              3000.0   \n",
       "3                3000.0     2.0              3000.0   \n",
       "4                3000.0     2.0              3000.0   \n",
       "...                 ...     ...                 ...   \n",
       "44462            3000.0     2.0              3000.0   \n",
       "44463            3000.0     2.0              3000.0   \n",
       "44464            3000.0     2.0              3000.0   \n",
       "44465            3000.0     2.0              3000.0   \n",
       "44466            3000.0     2.0              3000.0   \n",
       "\n",
       "       METAL_OIL_SUPPLY_PRESS_CONTR  KO4_MOTOR_SET_FREQ  KO2_MOTOR_SET_FREQ  \\\n",
       "0                           295.200              3000.0              3000.0   \n",
       "1                           294.000              3000.0              3000.0   \n",
       "2                           289.700              3000.0              3000.0   \n",
       "3                           290.200              3000.0              3000.0   \n",
       "4                           287.750              3000.0              3000.0   \n",
       "...                             ...                 ...                 ...   \n",
       "44462                       156.100              3000.0              3000.0   \n",
       "44463                       163.666              3000.0              3000.0   \n",
       "44464                       170.000              3000.0              3000.0   \n",
       "44465                       171.100              3000.0              3000.0   \n",
       "44466                       169.888              3000.0              3000.0   \n",
       "\n",
       "       MAIN_MOTOR_CURR  ...  KO1_MOTOR_INVERTER_ALM  TRANS_POS_DOWN_SET_H  \\\n",
       "0               4391.0  ...                     0.5                2000.0   \n",
       "1               4439.0  ...                     0.5                2000.0   \n",
       "2               5879.0  ...                     0.5                2000.0   \n",
       "3               4410.0  ...                     0.5                2000.0   \n",
       "4               6645.0  ...                     0.5                2000.0   \n",
       "...                ...  ...                     ...                   ...   \n",
       "44462           4071.0  ...                     0.5                2000.0   \n",
       "44463           5457.0  ...                     0.5                2000.0   \n",
       "44464           4820.0  ...                     0.5                2000.0   \n",
       "44465           4181.0  ...                     0.5                2000.0   \n",
       "44466           6298.0  ...                     0.5                2000.0   \n",
       "\n",
       "       OUTPUT_COUNT_DAY_2  OUTPUT_COUNT_SUM  TRANS_POS_DOWN  TRANS_POS_RIGHT  \\\n",
       "0                     6.5           55158.0         648.000          1748.66   \n",
       "1                     8.5           55158.0         648.555          1748.14   \n",
       "2                    11.0           55158.0         647.333          1749.44   \n",
       "3                    13.5           55158.0         646.900          1748.66   \n",
       "4                    16.0           55158.0         648.444          1748.44   \n",
       "...                   ...               ...             ...              ...   \n",
       "44462             65530.5           55813.0         644.500          1732.77   \n",
       "44463             65532.5           55813.0         645.777          1732.75   \n",
       "44464             43689.6           55813.0         645.125          1733.22   \n",
       "44465                 1.5           55813.0         644.888          1733.20   \n",
       "44466                 4.0           55813.0         645.700          1733.12   \n",
       "\n",
       "       MAIN_MOTOR_ALM  DAY_1_DIFF  CYCLE       time_diff  \n",
       "0                 0.0    -65533.5      1             NaT  \n",
       "1                 0.0         2.0      1 0 days 00:00:01  \n",
       "2                 0.0         2.5      1 0 days 00:00:01  \n",
       "3                 0.0         2.5      1 0 days 00:00:01  \n",
       "4                 0.0         2.5      1 0 days 00:00:01  \n",
       "...               ...         ...    ...             ...  \n",
       "44462             0.0         2.5      1 0 days 00:00:01  \n",
       "44463             0.0         2.0      1 0 days 00:00:01  \n",
       "44464             0.0         2.5      1 0 days 00:00:01  \n",
       "44465             0.0         2.5      1 0 days 00:00:01  \n",
       "44466             0.0         2.5      1 0 days 00:00:01  \n",
       "\n",
       "[44467 rows x 47 columns]"
      ]
     },
     "execution_count": 31,
     "metadata": {},
     "output_type": "execute_result"
    }
   ],
   "source": [
    "df"
   ]
  },
  {
   "cell_type": "code",
   "execution_count": 32,
   "id": "ab9273df",
   "metadata": {},
   "outputs": [],
   "source": [
    "cycle_time = 1 / 2.5 # 1초에 2.5개 생산\n",
    "day11_output = 65534.0 # 일일생산량\n",
    "work_time = 44467 # 일일가동시간(2022-05-02 08:14:21 ~ 2022-05-02 20:36:06)"
   ]
  },
  {
   "cell_type": "code",
   "execution_count": 33,
   "id": "996221ea",
   "metadata": {},
   "outputs": [
    {
     "data": {
      "text/plain": [
       "0.5895068252861673"
      ]
     },
     "execution_count": 33,
     "metadata": {},
     "output_type": "execute_result"
    }
   ],
   "source": [
    "oee2 = cycle_time * day11_output / work_time\n",
    "oee2"
   ]
  },
  {
   "cell_type": "markdown",
   "id": "ae863f3d",
   "metadata": {},
   "source": [
    "## 🍳 종합수율\n",
    "- 양품수, 투입수가 없음\n",
    "- 일단 빼고 계산해보기\n",
    "- 알람/경고 횟수 기반으로 추정\n"
   ]
  },
  {
   "cell_type": "markdown",
   "id": "5ff90ceb",
   "metadata": {},
   "source": [
    "---\n",
    "## cycle 확인"
   ]
  },
  {
   "cell_type": "code",
   "execution_count": 23,
   "id": "46631c36",
   "metadata": {},
   "outputs": [],
   "source": [
    "df = pd.read_csv('data.csv')"
   ]
  },
  {
   "cell_type": "code",
   "execution_count": 24,
   "id": "7da9d17d",
   "metadata": {},
   "outputs": [],
   "source": [
    "df_co = df.copy()\n",
    "\n",
    "# df에서 모든 값이 0인 경우 제거\n",
    "df_co = df_co.loc[~(df_co.drop(columns=['Timestamp']) == 0).all(axis=1)]"
   ]
  },
  {
   "cell_type": "code",
   "execution_count": 25,
   "id": "c021bca3",
   "metadata": {},
   "outputs": [],
   "source": [
    "df_co['DAY_1_DIFF'] = df_co['OUTPUT_COUNT_DAY_1'].diff()\n",
    "\n",
    "\n",
    "# 초기 상태 추가: 첫 번째 인덱스를 사이클의 시작점으로 지정\n",
    "reset_points = [0]\n",
    "\n",
    "# 값이 다시 작아지는 지점 → 그 다음 행을 새로운 사이클의 시작점으로 지정\n",
    "for i in range(1, len(df_co)):\n",
    "    if df_co['OUTPUT_COUNT_DAY_1'].iloc[i] < df_co['OUTPUT_COUNT_DAY_1'].iloc[i - 1]:\n",
    "        reset_points.append(i)"
   ]
  },
  {
   "cell_type": "code",
   "execution_count": 26,
   "id": "825fdd6a",
   "metadata": {},
   "outputs": [],
   "source": [
    "# 마지막 인덱스를 끝점으로 추가\n",
    "reset_points.append(len(df_co))\n",
    "\n",
    "cycles = []\n",
    "for i in range(len(reset_points) - 1):\n",
    "    start = reset_points[i]\n",
    "    end = reset_points[i + 1]\n",
    "    cycle_df = df_co.iloc[start:end].copy()\n",
    "    cycle_df['CYCLE'] = i  # 사이클 번호 추가\n",
    "    cycles.append(cycle_df)\n"
   ]
  },
  {
   "cell_type": "code",
   "execution_count": 27,
   "id": "53025bc6",
   "metadata": {},
   "outputs": [],
   "source": [
    "df_cycle = pd.concat(cycles, ignore_index=True)"
   ]
  },
  {
   "cell_type": "code",
   "execution_count": 58,
   "id": "66ecd0c6",
   "metadata": {},
   "outputs": [],
   "source": [
    "df_cycle31 = df_cycle[df_cycle['CYCLE'] == 31]"
   ]
  },
  {
   "cell_type": "code",
   "execution_count": null,
   "id": "83619241",
   "metadata": {},
   "outputs": [],
   "source": [
    "# 0번째는 일일 생산량이 있는 상태에서 시작하니까 cycle 1로 test\n",
    "df_cycle1 = df_cycle[df_cycle['CYCLE'] == 1]"
   ]
  },
  {
   "cell_type": "code",
   "execution_count": 77,
   "id": "afc4b6cd",
   "metadata": {},
   "outputs": [
    {
     "name": "stdout",
     "output_type": "stream",
     "text": [
      "기울기 (slope): 0.009999765701442453\n",
      "절편 (intercept): 55157.82273734661\n"
     ]
    },
    {
     "data": {
      "image/png": "[encoded data removed]",
      "text/plain": [
       "<Figure size 1000x600 with 1 Axes>"
      ]
     },
     "metadata": {},
     "output_type": "display_data"
    }
   ],
   "source": [
    "from sklearn.linear_model import LinearRegression\n",
    "\n",
    "x = df_cycle1['OUTPUT_COUNT_DAY_1'].values.reshape(-1, 1) # 일일 생산량\n",
    "y = df_cycle1['OUTPUT_COUNT_SUM'].values.reshape(-1, 1)   # 누적 생산량\n",
    "\n",
    "# 선형 회귀 모델 피팅\n",
    "model = LinearRegression()\n",
    "model.fit(x, y)\n",
    "\n",
    "# 회귀선 정보\n",
    "slope = model.coef_[0][0]\n",
    "intercept = model.intercept_[0]\n",
    "print(f\"기울기 (slope): {slope}\")\n",
    "print(f\"절편 (intercept): {intercept}\")\n",
    "\n",
    "# 예측값 생성\n",
    "y_pred = model.predict(x)\n",
    "\n",
    "# 시각화\n",
    "plt.figure(figsize=(10, 6))\n",
    "sns.scatterplot(x=x.flatten(), y=y.flatten(), label='Data', alpha=1, s=10)\n",
    "plt.plot(x, y_pred, color='red',linewidth=0.5, label=f'Regression Line\\nslope={slope:.4f}, intercept={intercept:.2f}')\n",
    "plt.xlabel('일일 생산량')\n",
    "plt.ylabel('누적 생산량')\n",
    "plt.title('누적 생산량과 일일 생산량 간 회귀선')\n",
    "plt.legend()\n",
    "plt.grid(True)\n",
    "plt.tight_layout()\n",
    "plt.show()\n"
   ]
  },
  {
   "cell_type": "code",
   "execution_count": null,
   "id": "6de18b64",
   "metadata": {},
   "outputs": [],
   "source": []
  }
 ],
 "metadata": {
  "kernelspec": {
   "display_name": "Python 3",
   "language": "python",
   "name": "python3"
  },
  "language_info": {
   "codemirror_mode": {
    "name": "ipython",
    "version": 3
   },
   "file_extension": ".py",
   "mimetype": "text/x-python",
   "name": "python",
   "nbconvert_exporter": "python",
   "pygments_lexer": "ipython3",
   "version": "3.10.11"
  }
 },
 "nbformat": 4,
 "nbformat_minor": 5
}

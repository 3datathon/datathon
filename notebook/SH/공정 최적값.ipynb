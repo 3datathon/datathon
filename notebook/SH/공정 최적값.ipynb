{
 "cells": [
  {
   "cell_type": "markdown",
   "id": "89166320",
   "metadata": {},
   "source": [
    "# 공정 최적값 도출(평균에 표준편차 적용시켜 공정 최적 최소~최대값으로 도출)"
   ]
  },
  {
   "cell_type": "code",
   "execution_count": null,
   "id": "e4f0e12e",
   "metadata": {},
   "outputs": [],
   "source": [
    "exclude_cols = ['Timestamp', 'STATUS.xlsx']\n",
    "\n",
    "df_ok = df[df['STATUS.xlsx'] == '2.0'].copy()\n",
    "\n",
    "num_cols = df_ok.select_dtypes(include='number').columns.difference(exclude_cols)\n",
    "\n",
    "optimal_stats = df_ok[num_cols].agg(['mean', 'std', 'min', 'max']).T\n",
    "optimal_stats['recommended_min'] = optimal_stats['mean'] - optimal_stats['std']\n",
    "optimal_stats['recommended_max'] = optimal_stats['mean'] + optimal_stats['std']\n",
    "optimal_ranges_all = optimal_stats[['recommended_min', 'mean', 'recommended_max']].round(2)\n",
    "\n",
    "print(optimal_ranges_all)"
   ]
  }
 ],
 "metadata": {
  "language_info": {
   "name": "python"
  }
 },
 "nbformat": 4,
 "nbformat_minor": 5
}

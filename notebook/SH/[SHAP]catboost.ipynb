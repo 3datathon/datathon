{
 "cells": [
  {
   "cell_type": "code",
   "execution_count": null,
   "id": "b1c3a659",
   "metadata": {},
   "outputs": [],
   "source": [
    "# !pip install catboost\n",
    "# !pip install shap"
   ]
  },
  {
   "cell_type": "code",
   "execution_count": null,
   "id": "5dd056e8",
   "metadata": {},
   "outputs": [],
   "source": [
    "import shap\n",
    "import pandas as pd\n",
    "import matplotlib.pyplot as plt\n",
    "from catboost import CatBoostClassifier, Pool\n",
    "from sklearn.model_selection import train_test_split\n",
    "from sklearn.preprocessing import LabelEncoder\n",
    "\n",
    "df = pd.read_csv('실습데이터.csv')\n",
    "\n",
    "df['Timestamp'] = pd.to_datetime(df['Timestamp'])\n",
    "df = df.sort_values('Timestamp').reset_index(drop=True)\n",
    "df['STATUS.xlsx'] = df['STATUS.xlsx'].astype(str)"
   ]
  },
  {
   "cell_type": "markdown",
   "id": "88bed30d",
   "metadata": {},
   "source": [
    "# 학습 후 STATUS 각각으로 SHAP"
   ]
  },
  {
   "cell_type": "code",
   "execution_count": null,
   "id": "31c55e76",
   "metadata": {},
   "outputs": [],
   "source": [
    "le = LabelEncoder()\n",
    "y = pd.Series(le.fit_transform(df['STATUS.xlsx']), index=df.index)\n",
    "X = df.drop(columns=['STATUS.xlsx', 'Timestamp'])\n",
    "\n",
    "for col in X.select_dtypes(include='object').columns:\n",
    "    X[col] = LabelEncoder().fit_transform(X[col])\n",
    "\n",
    "X_train, X_val, y_train, y_val = train_test_split(\n",
    "    X, y, test_size=0.2, random_state=42, stratify=y\n",
    ")\n",
    "\n",
    "model = CatBoostClassifier(\n",
    "    iterations=100,\n",
    "    learning_rate=0.1,\n",
    "    depth=6,\n",
    "    loss_function='MultiClass',\n",
    "    verbose=0\n",
    ")\n",
    "model.fit(X_train, y_train)\n",
    "\n",
    "train_pool = Pool(X_train, label=y_train)\n",
    "shap_values = model.get_feature_importance(train_pool, type=\"ShapValues\")\n",
    "shap_values = shap_values.transpose(0, 2, 1)\n",
    "shap_values = shap_values[:, 1:, :] # bias 제거용\n",
    "\n",
    "feature_names = X_train.columns\n",
    "n_classes = shap_values.shape[2]\n",
    "\n",
    "for i in range(n_classes):\n",
    "    print(f\"\\n📊 SHAP summary plot for class {i}\")\n",
    "    shap.summary_plot(shap_values[:, :, i], X_train, feature_names=feature_names, plot_type=\"bar\")\n",
    "    shap.summary_plot(shap_values[:, :, i], X_train, feature_names=feature_names)\n"
   ]
  },
  {
   "cell_type": "markdown",
   "id": "fd336d2e",
   "metadata": {},
   "source": [
    "# STATUS 전체에 대한 SHAP"
   ]
  },
  {
   "cell_type": "code",
   "execution_count": null,
   "id": "0c8684c3",
   "metadata": {},
   "outputs": [],
   "source": [
    "explainer = shap.TreeExplainer(model)\n",
    "\n",
    "shap_values = explainer.shap_values(X_val)\n",
    "\n",
    "shap.summary_plot(shap_values, X_val, plot_type=\"bar\")\n",
    "\n",
    "shap.summary_plot(shap_values, X_val)"
   ]
  }
 ],
 "metadata": {
  "language_info": {
   "name": "python"
  }
 },
 "nbformat": 4,
 "nbformat_minor": 5
}

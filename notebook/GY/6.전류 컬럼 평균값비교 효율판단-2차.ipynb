{
 "cells": [
  {
   "cell_type": "code",
   "execution_count": 1,
   "id": "079a8f40-ffd4-46d8-926d-dd52d13785f2",
   "metadata": {},
   "outputs": [],
   "source": [
    "#### 기본\n",
    "import pandas as pd\n",
    "import numpy as np\n",
    "import matplotlib.pyplot as plt\n",
    "import seaborn as sns\n",
    "import glob\n",
    "import os\n",
    "\n",
    "\n",
    "# 경고 뜨지 않게 설정\n",
    "import warnings\n",
    "warnings.filterwarnings('ignore')\n",
    "\n",
    "# 그래프 설정\n",
    "sns.set()\n",
    "\n",
    "# 그래프 기본 설정\n",
    "#plt.rcParams['font.family'] = 'Malgun Gothic'\n",
    "plt.rcParams['font.family'] = 'AppleGothic'\n",
    "plt.rcParams['figure.figsize'] = 12, 6\n",
    "plt.rcParams['font.size'] = 14\n",
    "plt.rcParams['axes.unicode_minus'] = False\n",
    "\n",
    "# 데이터 전처리 알고리즘\n",
    "from sklearn.preprocessing import LabelEncoder\n",
    "from sklearn.preprocessing import StandardScaler\n",
    "\n",
    "# 학습용과 검증용으로 나누는 함수\n",
    "from sklearn.model_selection import train_test_split\n",
    "\n",
    "# 교차 검증\n",
    "from sklearn.model_selection import cross_val_score\n",
    "from sklearn.model_selection import cross_validate\n",
    "from sklearn.model_selection import KFold\n",
    "from sklearn.model_selection import StratifiedKFold\n",
    "\n",
    "# 평가함수\n",
    "# 분류용\n",
    "from sklearn.metrics import accuracy_score\n",
    "from sklearn.metrics import precision_score\n",
    "from sklearn.metrics import recall_score\n",
    "from sklearn.metrics import f1_score\n",
    "from sklearn.metrics import roc_auc_score\n",
    "\n",
    "# 회귀용\n",
    "from sklearn.metrics import r2_score\n",
    "from sklearn.metrics import mean_squared_error\n",
    "\n",
    "# 모델의 최적의 하이퍼 파라미터를 찾기 위한 도구\n",
    "from sklearn.model_selection import GridSearchCV\n",
    "\n",
    "# 머신러닝 알고리즘 - 분류\n",
    "from sklearn.neighbors import KNeighborsClassifier\n",
    "from sklearn.linear_model import LogisticRegression\n",
    "from sklearn.svm import SVC\n",
    "from sklearn.tree import DecisionTreeClassifier\n",
    "from sklearn.ensemble import RandomForestClassifier\n",
    "from sklearn.ensemble import AdaBoostClassifier\n",
    "from sklearn.ensemble import GradientBoostingClassifier\n",
    "from sklearn.ensemble import VotingClassifier\n",
    "\n",
    "# 머신러닝 알고리즘 - 회귀\n",
    "from sklearn.neighbors import KNeighborsRegressor\n",
    "from sklearn.linear_model import LinearRegression\n",
    "from sklearn.linear_model import Ridge\n",
    "from sklearn.linear_model import Lasso\n",
    "from sklearn.linear_model import ElasticNet\n",
    "from sklearn.svm import SVR\n",
    "from sklearn.tree import DecisionTreeRegressor\n",
    "from sklearn.ensemble import RandomForestRegressor\n",
    "from sklearn.ensemble import AdaBoostRegressor\n",
    "from sklearn.ensemble import GradientBoostingRegressor\n",
    "from sklearn.ensemble import VotingRegressor\n",
    "\n",
    "# 학습 모델 저장을 위한 라이브러리\n",
    "import pickle"
   ]
  },
  {
   "cell_type": "code",
   "execution_count": 2,
   "id": "d8ef79b1-4525-47f1-bfb1-bb6b63de6453",
   "metadata": {},
   "outputs": [],
   "source": [
    "# CSV 파일 불러오기\n",
    "df = pd.read_csv('/Users/kimgayeong/Desktop/데이터톤/data 3/실습데이터.csv') "
   ]
  },
  {
   "cell_type": "code",
   "execution_count": 3,
   "id": "a4fc86f0-71b1-4d80-8f18-a23c33f8d950",
   "metadata": {},
   "outputs": [],
   "source": [
    "df1 = pd.read_csv('/Users/kimgayeong/Desktop/데이터톤/data 3/raw_total_data.csv')"
   ]
  },
  {
   "cell_type": "code",
   "execution_count": 4,
   "id": "79abec44-e82c-4eaa-8a95-3cdfa0d0ba08",
   "metadata": {},
   "outputs": [],
   "source": [
    "columns_to_drop = [\n",
    "    'KO6_MOTOR_SET_FREQ.xlsx', 'KO6_MOTOR_CURR.xlsx', 'KO6_MOTOR_INVERTER_ALM.xlsx',\n",
    "    'TRANS_POS_LEFT.xlsx', 'TRANS_POS_RIGHT.xlsx', 'TRANS_POS_UP.xlsx', 'TRANS_POS_DOWN.xlsx',\n",
    "    'TRANS_POS_LEFT_SET_H.xlsx', 'TRANS_POS_RIGHT_SET_H.xlsx', 'TRANS_POS_UP_SET_H.xlsx', 'TRANS_POS_DOWN_SET_H.xlsx',\n",
    "    'TRANS_POS_LEFT_SET_L.xlsx', 'TRANS_POS_RIGHT_SET_L.xlsx', 'TRANS_POS_UP_SET_L.xlsx', 'TRANS_POS_DOWN_SET_L.xlsx'\n",
    "]\n",
    "\n",
    "df = df.drop(columns=columns_to_drop, errors='ignore')"
   ]
  },
  {
   "cell_type": "code",
   "execution_count": 5,
   "id": "5c1322df-bb15-48b6-9b6b-3806fe791645",
   "metadata": {},
   "outputs": [],
   "source": [
    "columns_to_drop = [\n",
    "    'KO6_MOTOR_SET_FREQ.xlsx', 'KO6_MOTOR_CURR.xlsx', 'KO6_MOTOR_INVERTER_ALM.xlsx',\n",
    "    'TRANS_POS_LEFT.xlsx', 'TRANS_POS_RIGHT.xlsx', 'TRANS_POS_UP.xlsx', 'TRANS_POS_DOWN.xlsx',\n",
    "    'TRANS_POS_LEFT_SET_H.xlsx', 'TRANS_POS_RIGHT_SET_H.xlsx', 'TRANS_POS_UP_SET_H.xlsx', 'TRANS_POS_DOWN_SET_H.xlsx',\n",
    "    'TRANS_POS_LEFT_SET_L.xlsx', 'TRANS_POS_RIGHT_SET_L.xlsx', 'TRANS_POS_UP_SET_L.xlsx', 'TRANS_POS_DOWN_SET_L.xlsx'\n",
    "]\n",
    "\n",
    "df1 = df1.drop(columns=columns_to_drop, errors='ignore')"
   ]
  },
  {
   "cell_type": "code",
   "execution_count": 6,
   "id": "ed61a09e-9e8d-4c40-a3ff-51f1aefaabf0",
   "metadata": {},
   "outputs": [
    {
     "name": "stdout",
     "output_type": "stream",
     "text": [
      "['Timestamp', 'OUTPUT_COUNT_DAY_1.xlsx', 'CUTTING_SET_FREQ.xlsx', 'STATUS.xlsx', 'KO5_MOTOR_SET_FREQ.xlsx', 'METAL_OIL_SUPPLY_PRESS_CONTR.xlsx', 'KO4_MOTOR_SET_FREQ.xlsx', 'KO2_MOTOR_SET_FREQ.xlsx', 'MAIN_MOTOR_CURR.xlsx', 'KO3_MOTOR_SET_FREQ.xlsx', 'TONGS_INVERTER_ALM_ERR_CD.xlsx', 'KO1_MOTOR_SET_FREQ.xlsx', 'KO3_MOTOR_INVERTER_ALM.xlsx', 'MAIN_MOTOR_RPM.xlsx', 'TRANS_CURR.xlsx', 'KO1_MOTOR_CURR.xlsx', 'TRANS_INVERTER_ALM_ERR_CD.xlsx', 'TONGS_CAST_SET_FREQ.xlsx', 'KO4_MOTOR_INVERTER_ALM.xlsx', 'OIL_SUPPLY_PRESS.xlsx', 'KO2_MOTOR_INVERTER_ALM.xlsx', 'KO3_MOTOR_CURR.xlsx', 'TONGS_POS.xlsx', 'WORK_OIL_SUPPLY_PRESS.xlsx', 'METAL_TEMP_CONTROL.xlsx', 'TONGS_CAST_CURR.xlsx', 'CUTTING_INVERTER_ALM_ERR_CD.xlsx', 'KO4_MOTOR_CURR.xlsx', 'METAL_OIL_SUPPLY_PRESS_CUT.xlsx', 'MAIN_AIR_PRESS.xlsx', 'TRANS_SET_FREQ.xlsx', 'METAL_TEMP_CUT.xlsx', 'KO5_MOTOR_INVERTER_ALM.xlsx', 'MAIN_MOTOR_SET_FREQ.xlsx', 'OIL_PRESS_LEVEL_ALM.xlsx', 'CUTTING_CURR.xlsx', 'KO5_MOTOR_CURR.xlsx', 'KO2_MOTOR_CURR.xlsx', 'KO1_MOTOR_INVERTER_ALM.xlsx', 'OUTPUT_COUNT_DAY_2.xlsx', 'OUTPUT_COUNT_SUM.xlsx', 'MAIN_MOTOR_ALM.xlsx']\n"
     ]
    }
   ],
   "source": [
    "print(df.columns.tolist())"
   ]
  },
  {
   "cell_type": "markdown",
   "id": "28aa50da-3c1a-4a3a-abbd-3ebc9f36f5bc",
   "metadata": {},
   "source": [
    "## 1.전류"
   ]
  },
  {
   "cell_type": "code",
   "execution_count": 7,
   "id": "535fd7cd-413f-4810-a544-425d9f0bb146",
   "metadata": {},
   "outputs": [],
   "source": [
    "power_group = [\n",
    "    'MAIN_MOTOR_CURR.xlsx',\n",
    "    'KO1_MOTOR_CURR.xlsx',\n",
    "    'KO2_MOTOR_CURR.xlsx',\n",
    "    'KO3_MOTOR_CURR.xlsx',\n",
    "    'KO4_MOTOR_CURR.xlsx',\n",
    "    'KO5_MOTOR_CURR.xlsx',\n",
    "    'CUTTING_CURR.xlsx',\n",
    "    'TONGS_CAST_CURR.xlsx'\n",
    "]"
   ]
  },
  {
   "cell_type": "code",
   "execution_count": 8,
   "id": "1897f7fb-63f4-49f2-bff0-ac3c73445ba0",
   "metadata": {},
   "outputs": [
    {
     "data": {
      "text/html": [
       "<div>\n",
       "<style scoped>\n",
       "    .dataframe tbody tr th:only-of-type {\n",
       "        vertical-align: middle;\n",
       "    }\n",
       "\n",
       "    .dataframe tbody tr th {\n",
       "        vertical-align: top;\n",
       "    }\n",
       "\n",
       "    .dataframe thead th {\n",
       "        text-align: right;\n",
       "    }\n",
       "</style>\n",
       "<table border=\"1\" class=\"dataframe\">\n",
       "  <thead>\n",
       "    <tr style=\"text-align: right;\">\n",
       "      <th></th>\n",
       "      <th>count</th>\n",
       "      <th>mean</th>\n",
       "      <th>std</th>\n",
       "      <th>min</th>\n",
       "      <th>max</th>\n",
       "    </tr>\n",
       "  </thead>\n",
       "  <tbody>\n",
       "    <tr>\n",
       "      <th>MAIN_MOTOR_CURR.xlsx</th>\n",
       "      <td>579297.0</td>\n",
       "      <td>4601.190605</td>\n",
       "      <td>1163.748060</td>\n",
       "      <td>0.0</td>\n",
       "      <td>16540.0</td>\n",
       "    </tr>\n",
       "    <tr>\n",
       "      <th>KO1_MOTOR_CURR.xlsx</th>\n",
       "      <td>579297.0</td>\n",
       "      <td>0.000000</td>\n",
       "      <td>0.000000</td>\n",
       "      <td>0.0</td>\n",
       "      <td>0.0</td>\n",
       "    </tr>\n",
       "    <tr>\n",
       "      <th>KO2_MOTOR_CURR.xlsx</th>\n",
       "      <td>579297.0</td>\n",
       "      <td>0.000000</td>\n",
       "      <td>0.000000</td>\n",
       "      <td>0.0</td>\n",
       "      <td>0.0</td>\n",
       "    </tr>\n",
       "    <tr>\n",
       "      <th>KO3_MOTOR_CURR.xlsx</th>\n",
       "      <td>579297.0</td>\n",
       "      <td>0.000000</td>\n",
       "      <td>0.000000</td>\n",
       "      <td>0.0</td>\n",
       "      <td>0.0</td>\n",
       "    </tr>\n",
       "    <tr>\n",
       "      <th>KO4_MOTOR_CURR.xlsx</th>\n",
       "      <td>579297.0</td>\n",
       "      <td>0.000000</td>\n",
       "      <td>0.000000</td>\n",
       "      <td>0.0</td>\n",
       "      <td>0.0</td>\n",
       "    </tr>\n",
       "    <tr>\n",
       "      <th>KO5_MOTOR_CURR.xlsx</th>\n",
       "      <td>579297.0</td>\n",
       "      <td>0.000000</td>\n",
       "      <td>0.000000</td>\n",
       "      <td>0.0</td>\n",
       "      <td>0.0</td>\n",
       "    </tr>\n",
       "    <tr>\n",
       "      <th>CUTTING_CURR.xlsx</th>\n",
       "      <td>579297.0</td>\n",
       "      <td>0.000000</td>\n",
       "      <td>0.000000</td>\n",
       "      <td>0.0</td>\n",
       "      <td>0.0</td>\n",
       "    </tr>\n",
       "    <tr>\n",
       "      <th>TONGS_CAST_CURR.xlsx</th>\n",
       "      <td>579297.0</td>\n",
       "      <td>18.230268</td>\n",
       "      <td>17.289325</td>\n",
       "      <td>0.0</td>\n",
       "      <td>81.5</td>\n",
       "    </tr>\n",
       "  </tbody>\n",
       "</table>\n",
       "</div>"
      ],
      "text/plain": [
       "                         count         mean          std  min      max\n",
       "MAIN_MOTOR_CURR.xlsx  579297.0  4601.190605  1163.748060  0.0  16540.0\n",
       "KO1_MOTOR_CURR.xlsx   579297.0     0.000000     0.000000  0.0      0.0\n",
       "KO2_MOTOR_CURR.xlsx   579297.0     0.000000     0.000000  0.0      0.0\n",
       "KO3_MOTOR_CURR.xlsx   579297.0     0.000000     0.000000  0.0      0.0\n",
       "KO4_MOTOR_CURR.xlsx   579297.0     0.000000     0.000000  0.0      0.0\n",
       "KO5_MOTOR_CURR.xlsx   579297.0     0.000000     0.000000  0.0      0.0\n",
       "CUTTING_CURR.xlsx     579297.0     0.000000     0.000000  0.0      0.0\n",
       "TONGS_CAST_CURR.xlsx  579297.0    18.230268    17.289325  0.0     81.5"
      ]
     },
     "execution_count": 8,
     "metadata": {},
     "output_type": "execute_result"
    }
   ],
   "source": [
    "df[power_group].describe().T[['count', 'mean', 'std', 'min', 'max']]"
   ]
  },
  {
   "cell_type": "code",
   "execution_count": 9,
   "id": "7c50fa3d-736d-45c6-983d-7db079198452",
   "metadata": {},
   "outputs": [],
   "source": [
    "# 통계 요약 추출\n",
    "summary_df = df[power_group].describe().T[['count', 'mean', 'std', 'min', 'max']]\n",
    "\n",
    "# CSV로 저장 (인덱스 포함)\n",
    "summary_df.to_csv(\"1. power_group_summary.csv\", index=True)"
   ]
  },
  {
   "cell_type": "code",
   "execution_count": 10,
   "id": "593a0682-f7ba-40e7-979e-fcbefe492a43",
   "metadata": {},
   "outputs": [
    {
     "data": {
      "text/plain": [
       "MAIN_MOTOR_CURR.xlsx    0.0\n",
       "KO1_MOTOR_CURR.xlsx     0.0\n",
       "KO2_MOTOR_CURR.xlsx     0.0\n",
       "KO3_MOTOR_CURR.xlsx     0.0\n",
       "KO4_MOTOR_CURR.xlsx     0.0\n",
       "KO5_MOTOR_CURR.xlsx     0.0\n",
       "CUTTING_CURR.xlsx       0.0\n",
       "TONGS_CAST_CURR.xlsx    0.0\n",
       "dtype: float64"
      ]
     },
     "execution_count": 10,
     "metadata": {},
     "output_type": "execute_result"
    }
   ],
   "source": [
    "(df[power_group].isna().sum() / len(df)).sort_values(ascending=False)"
   ]
  },
  {
   "cell_type": "code",
   "execution_count": 11,
   "id": "9682bf4c-a14c-4119-a68b-59b3b4fe8a44",
   "metadata": {
    "scrolled": true
   },
   "outputs": [
    {
     "data": {
      "text/plain": [
       "MAIN_MOTOR_CURR.xlsx    float64\n",
       "KO1_MOTOR_CURR.xlsx     float64\n",
       "KO2_MOTOR_CURR.xlsx     float64\n",
       "KO3_MOTOR_CURR.xlsx     float64\n",
       "KO4_MOTOR_CURR.xlsx     float64\n",
       "KO5_MOTOR_CURR.xlsx     float64\n",
       "CUTTING_CURR.xlsx       float64\n",
       "TONGS_CAST_CURR.xlsx    float64\n",
       "dtype: object"
      ]
     },
     "execution_count": 11,
     "metadata": {},
     "output_type": "execute_result"
    }
   ],
   "source": [
    "df[power_group].dtypes"
   ]
  },
  {
   "cell_type": "code",
   "execution_count": 12,
   "id": "641b8143-3268-4f43-acac-7bf88501d56b",
   "metadata": {},
   "outputs": [
    {
     "data": {
      "text/plain": [
       "array([2192.5 , 4108.  , 4158.  , ..., 3937.16, 3884.33, 3900.42])"
      ]
     },
     "execution_count": 12,
     "metadata": {},
     "output_type": "execute_result"
    }
   ],
   "source": [
    "df['MAIN_MOTOR_CURR.xlsx'].unique()"
   ]
  },
  {
   "cell_type": "code",
   "execution_count": 13,
   "id": "77c94e38-8a6f-42a0-8fce-115f53ab4d10",
   "metadata": {},
   "outputs": [],
   "source": [
    "# 평균 대비 편차 비율 (deviation ratio) 계산\n",
    "dev_df = df[power_group].astype('float64').apply(lambda x: (x - x.mean()) / x.mean())"
   ]
  },
  {
   "cell_type": "code",
   "execution_count": 14,
   "id": "44107ef1-b5d8-4a51-a86e-a98d7be0e3de",
   "metadata": {},
   "outputs": [
    {
     "data": {
      "text/html": [
       "<div>\n",
       "<style scoped>\n",
       "    .dataframe tbody tr th:only-of-type {\n",
       "        vertical-align: middle;\n",
       "    }\n",
       "\n",
       "    .dataframe tbody tr th {\n",
       "        vertical-align: top;\n",
       "    }\n",
       "\n",
       "    .dataframe thead th {\n",
       "        text-align: right;\n",
       "    }\n",
       "</style>\n",
       "<table border=\"1\" class=\"dataframe\">\n",
       "  <thead>\n",
       "    <tr style=\"text-align: right;\">\n",
       "      <th></th>\n",
       "      <th>MAIN_MOTOR_CURR.xlsx</th>\n",
       "      <th>KO1_MOTOR_CURR.xlsx</th>\n",
       "      <th>KO2_MOTOR_CURR.xlsx</th>\n",
       "      <th>KO3_MOTOR_CURR.xlsx</th>\n",
       "      <th>KO4_MOTOR_CURR.xlsx</th>\n",
       "      <th>KO5_MOTOR_CURR.xlsx</th>\n",
       "      <th>CUTTING_CURR.xlsx</th>\n",
       "      <th>TONGS_CAST_CURR.xlsx</th>\n",
       "    </tr>\n",
       "  </thead>\n",
       "  <tbody>\n",
       "    <tr>\n",
       "      <th>count</th>\n",
       "      <td>5.792970e+05</td>\n",
       "      <td>0.0</td>\n",
       "      <td>0.0</td>\n",
       "      <td>0.0</td>\n",
       "      <td>0.0</td>\n",
       "      <td>0.0</td>\n",
       "      <td>0.0</td>\n",
       "      <td>5.792970e+05</td>\n",
       "    </tr>\n",
       "    <tr>\n",
       "      <th>mean</th>\n",
       "      <td>7.128769e-17</td>\n",
       "      <td>NaN</td>\n",
       "      <td>NaN</td>\n",
       "      <td>NaN</td>\n",
       "      <td>NaN</td>\n",
       "      <td>NaN</td>\n",
       "      <td>NaN</td>\n",
       "      <td>3.092895e-16</td>\n",
       "    </tr>\n",
       "    <tr>\n",
       "      <th>std</th>\n",
       "      <td>2.529232e-01</td>\n",
       "      <td>NaN</td>\n",
       "      <td>NaN</td>\n",
       "      <td>NaN</td>\n",
       "      <td>NaN</td>\n",
       "      <td>NaN</td>\n",
       "      <td>NaN</td>\n",
       "      <td>9.483857e-01</td>\n",
       "    </tr>\n",
       "    <tr>\n",
       "      <th>min</th>\n",
       "      <td>-1.000000e+00</td>\n",
       "      <td>NaN</td>\n",
       "      <td>NaN</td>\n",
       "      <td>NaN</td>\n",
       "      <td>NaN</td>\n",
       "      <td>NaN</td>\n",
       "      <td>NaN</td>\n",
       "      <td>-1.000000e+00</td>\n",
       "    </tr>\n",
       "    <tr>\n",
       "      <th>25%</th>\n",
       "      <td>-1.145770e-01</td>\n",
       "      <td>NaN</td>\n",
       "      <td>NaN</td>\n",
       "      <td>NaN</td>\n",
       "      <td>NaN</td>\n",
       "      <td>NaN</td>\n",
       "      <td>NaN</td>\n",
       "      <td>-1.000000e+00</td>\n",
       "    </tr>\n",
       "    <tr>\n",
       "      <th>50%</th>\n",
       "      <td>-7.219666e-02</td>\n",
       "      <td>NaN</td>\n",
       "      <td>NaN</td>\n",
       "      <td>NaN</td>\n",
       "      <td>NaN</td>\n",
       "      <td>NaN</td>\n",
       "      <td>NaN</td>\n",
       "      <td>8.101764e-01</td>\n",
       "    </tr>\n",
       "    <tr>\n",
       "      <th>75%</th>\n",
       "      <td>1.892574e-01</td>\n",
       "      <td>NaN</td>\n",
       "      <td>NaN</td>\n",
       "      <td>NaN</td>\n",
       "      <td>NaN</td>\n",
       "      <td>NaN</td>\n",
       "      <td>NaN</td>\n",
       "      <td>8.376033e-01</td>\n",
       "    </tr>\n",
       "    <tr>\n",
       "      <th>max</th>\n",
       "      <td>2.594722e+00</td>\n",
       "      <td>NaN</td>\n",
       "      <td>NaN</td>\n",
       "      <td>NaN</td>\n",
       "      <td>NaN</td>\n",
       "      <td>NaN</td>\n",
       "      <td>NaN</td>\n",
       "      <td>3.470587e+00</td>\n",
       "    </tr>\n",
       "  </tbody>\n",
       "</table>\n",
       "</div>"
      ],
      "text/plain": [
       "       MAIN_MOTOR_CURR.xlsx  KO1_MOTOR_CURR.xlsx  KO2_MOTOR_CURR.xlsx  \\\n",
       "count          5.792970e+05                  0.0                  0.0   \n",
       "mean           7.128769e-17                  NaN                  NaN   \n",
       "std            2.529232e-01                  NaN                  NaN   \n",
       "min           -1.000000e+00                  NaN                  NaN   \n",
       "25%           -1.145770e-01                  NaN                  NaN   \n",
       "50%           -7.219666e-02                  NaN                  NaN   \n",
       "75%            1.892574e-01                  NaN                  NaN   \n",
       "max            2.594722e+00                  NaN                  NaN   \n",
       "\n",
       "       KO3_MOTOR_CURR.xlsx  KO4_MOTOR_CURR.xlsx  KO5_MOTOR_CURR.xlsx  \\\n",
       "count                  0.0                  0.0                  0.0   \n",
       "mean                   NaN                  NaN                  NaN   \n",
       "std                    NaN                  NaN                  NaN   \n",
       "min                    NaN                  NaN                  NaN   \n",
       "25%                    NaN                  NaN                  NaN   \n",
       "50%                    NaN                  NaN                  NaN   \n",
       "75%                    NaN                  NaN                  NaN   \n",
       "max                    NaN                  NaN                  NaN   \n",
       "\n",
       "       CUTTING_CURR.xlsx  TONGS_CAST_CURR.xlsx  \n",
       "count                0.0          5.792970e+05  \n",
       "mean                 NaN          3.092895e-16  \n",
       "std                  NaN          9.483857e-01  \n",
       "min                  NaN         -1.000000e+00  \n",
       "25%                  NaN         -1.000000e+00  \n",
       "50%                  NaN          8.101764e-01  \n",
       "75%                  NaN          8.376033e-01  \n",
       "max                  NaN          3.470587e+00  "
      ]
     },
     "execution_count": 14,
     "metadata": {},
     "output_type": "execute_result"
    }
   ],
   "source": [
    "dev_df.describe()"
   ]
  },
  {
   "cell_type": "code",
   "execution_count": 15,
   "id": "f3e5af97-4b91-4850-a361-c847e2d6687a",
   "metadata": {},
   "outputs": [
    {
     "name": "stdout",
     "output_type": "stream",
     "text": [
      "       MAIN_MOTOR_CURR.xlsx  KO1_MOTOR_CURR.xlsx  KO2_MOTOR_CURR.xlsx  \\\n",
      "count          5.792970e+05                  0.0                  0.0   \n",
      "mean           7.128769e-17                  NaN                  NaN   \n",
      "std            2.529232e-01                  NaN                  NaN   \n",
      "min           -1.000000e+00                  NaN                  NaN   \n",
      "25%           -1.145770e-01                  NaN                  NaN   \n",
      "50%           -7.219666e-02                  NaN                  NaN   \n",
      "75%            1.892574e-01                  NaN                  NaN   \n",
      "max            2.594722e+00                  NaN                  NaN   \n",
      "\n",
      "       KO3_MOTOR_CURR.xlsx  KO4_MOTOR_CURR.xlsx  KO5_MOTOR_CURR.xlsx  \\\n",
      "count                  0.0                  0.0                  0.0   \n",
      "mean                   NaN                  NaN                  NaN   \n",
      "std                    NaN                  NaN                  NaN   \n",
      "min                    NaN                  NaN                  NaN   \n",
      "25%                    NaN                  NaN                  NaN   \n",
      "50%                    NaN                  NaN                  NaN   \n",
      "75%                    NaN                  NaN                  NaN   \n",
      "max                    NaN                  NaN                  NaN   \n",
      "\n",
      "       CUTTING_CURR.xlsx  TONGS_CAST_CURR.xlsx  \n",
      "count                0.0          5.792970e+05  \n",
      "mean                 NaN          3.092895e-16  \n",
      "std                  NaN          9.483857e-01  \n",
      "min                  NaN         -1.000000e+00  \n",
      "25%                  NaN         -1.000000e+00  \n",
      "50%                  NaN          8.101764e-01  \n",
      "75%                  NaN          8.376033e-01  \n",
      "max                  NaN          3.470587e+00  \n"
     ]
    }
   ],
   "source": [
    "# 요약 통계 출력\n",
    "print(dev_df.describe())\n",
    "\n",
    "# dev_df를 인덱스 포함해서 저장\n",
    "dev_df.to_csv(\"2.dev_df_full.csv\", index=True)\n"
   ]
  },
  {
   "cell_type": "code",
   "execution_count": 16,
   "id": "0cd0e97b-4440-4957-9b83-3d3e5d7516d1",
   "metadata": {},
   "outputs": [
    {
     "ename": "ZeroDivisionError",
     "evalue": "division by zero",
     "output_type": "error",
     "traceback": [
      "\u001b[0;31m---------------------------------------------------------------------------\u001b[0m",
      "\u001b[0;31mZeroDivisionError\u001b[0m                         Traceback (most recent call last)",
      "Cell \u001b[0;32mIn[16], line 1\u001b[0m\n\u001b[0;32m----> 1\u001b[0m \u001b[38;5;241m1\u001b[39m\u001b[38;5;241m/\u001b[39m\u001b[38;5;241m0\u001b[39m\u001b[38;5;241m==\u001b[39m\u001b[38;5;241m1\u001b[39m\n",
      "\u001b[0;31mZeroDivisionError\u001b[0m: division by zero"
     ]
    }
   ],
   "source": [
    "1/0==1"
   ]
  },
  {
   "cell_type": "code",
   "execution_count": null,
   "id": "71404c9c-c78d-4598-bfd9-680406722374",
   "metadata": {},
   "outputs": [],
   "source": [
    "power_group = [\n",
    "    'MAIN_MOTOR_CURR.xlsx',\n",
    "    'TONGS_CAST_CURR.xlsx'\n",
    "]"
   ]
  },
  {
   "cell_type": "code",
   "execution_count": null,
   "id": "af0d6b63-e57e-43a9-9183-786551d4fc25",
   "metadata": {},
   "outputs": [],
   "source": [
    "dev_df = df[power_group].astype(float).apply(lambda x: (x - x.mean()) / x.mean())\n",
    "dev_df"
   ]
  },
  {
   "cell_type": "code",
   "execution_count": null,
   "id": "8480bc8d-037c-43b3-ab66-7d3a0691bf30",
   "metadata": {},
   "outputs": [],
   "source": [
    "dev_df = df[power_group].astype(float).apply(lambda x: (x - x.mean()) / x.mean())\n",
    "dev_df.columns = [f'{col}_dev' for col in dev_df.columns]"
   ]
  },
  {
   "cell_type": "code",
   "execution_count": null,
   "id": "dd67a768-1e69-4f30-aeeb-6d5d3a00efe6",
   "metadata": {},
   "outputs": [],
   "source": [
    "import matplotlib.pyplot as plt\n",
    "import seaborn as sns\n",
    "\n",
    "plt.figure(figsize=(12, 6))\n",
    "sns.boxplot(data=dev_df)\n",
    "plt.title(\"전류 관련 변수의 편차율 분포\")\n",
    "plt.xticks(rotation=45)\n",
    "plt.grid(True)\n",
    "plt.tight_layout()\n",
    "plt.show()"
   ]
  },
  {
   "cell_type": "code",
   "execution_count": null,
   "id": "904c3e42-448d-4e7a-bbd7-ea0d9e4a7300",
   "metadata": {},
   "outputs": [],
   "source": [
    "plt.figure(figsize=(8, 6))\n",
    "sns.heatmap(dev_df.corr(), annot=True, cmap='coolwarm', fmt=\".2f\")\n",
    "plt.title(\"전류 dev 변수 간 상관관계\")\n",
    "plt.show()"
   ]
  },
  {
   "cell_type": "markdown",
   "id": "8e5a676e-ace6-485d-82bd-cd84402d07e3",
   "metadata": {},
   "source": [
    "## 해석\n",
    "- _dev는 평균 대비 상대적 전력소모량을 추정하는 변수.\n",
    "\n",
    "- 이 dev 값들이 플러스 쪽으로 크면 비효율 가능성, 마이너스면 효율 가능성."
   ]
  },
  {
   "cell_type": "code",
   "execution_count": null,
   "id": "36291e47-8c43-431f-9054-2231987e11f7",
   "metadata": {},
   "outputs": [],
   "source": [
    "print([col for col in dev_df.columns if '_dev' in col])"
   ]
  },
  {
   "cell_type": "code",
   "execution_count": null,
   "id": "0e10b7bc-1218-4275-823c-15afcda7ddc1",
   "metadata": {},
   "outputs": [],
   "source": [
    "def compare_efficiency(dev_df, col1, col2):\n",
    "    # 두 컬럼의 dev 값 비교: 더 작은 값이 효율적\n",
    "    dev_df['more_efficient'] = dev_df.apply(\n",
    "        lambda row: col1 if row[f'{col1}_dev'] < row[f'{col2}_dev'] else col2,\n",
    "        axis=1\n",
    "    )\n",
    "    \n",
    "    # 각각 효율적이었던 횟수 집계\n",
    "    summary = dev_df['more_efficient'].value_counts()\n",
    "    \n",
    "    print(\"=== 효율 비교 요약 ===\")\n",
    "    print(summary)\n",
    "    \n",
    "    return summary\n",
    "\n",
    "# 호출 예시\n",
    "compare_efficiency(dev_df, 'MAIN_MOTOR_CURR.xlsx', 'TONGS_CAST_CURR.xlsx')"
   ]
  },
  {
   "cell_type": "code",
   "execution_count": null,
   "id": "807e4f2d-ca30-4c76-b58c-1d5c8c32313f",
   "metadata": {},
   "outputs": [],
   "source": [
    "import matplotlib.pyplot as plt\n",
    "import seaborn as sns\n",
    "\n",
    "def plot_efficiency_comparison(dev_df, col1, col2):\n",
    "    col1_dev = f'{col1}_dev'\n",
    "    col2_dev = f'{col2}_dev'\n",
    "\n",
    "    # 효율적일 때 편차값 추출\n",
    "    col1_eff = dev_df[dev_df['more_efficient'] == col1][col1_dev].dropna()\n",
    "    col2_eff = dev_df[dev_df['more_efficient'] == col2][col2_dev].dropna()\n",
    "\n",
    "    # 시각화\n",
    "    plt.figure(figsize=(12,6))\n",
    "    sns.kdeplot(col1_eff, label=f'{col1} 효율적일 때 편차 분포')\n",
    "    sns.kdeplot(col2_eff, label=f'{col2} 효율적일 때 편차 분포')\n",
    "    plt.xlabel('편차율')\n",
    "    plt.title(f'{col1} vs {col2} 효율적일 때 편차율 분포 비교')\n",
    "    plt.legend()\n",
    "    plt.show()\n",
    "\n",
    "    # 통계 요약 출력\n",
    "    print(f'=== {col1} 효율적일 때 편차 통계 ===')\n",
    "    print(col1_eff.describe())\n",
    "    print()\n",
    "    print(f'=== {col2} 효율적일 때 편차 통계 ===')\n",
    "    print(col2_eff.describe())\n",
    "\n",
    "# 사용 예시\n",
    "plot_efficiency_comparison(dev_df, 'MAIN_MOTOR_CURR.xlsx', 'TONGS_CAST_CURR.xlsx')"
   ]
  },
  {
   "cell_type": "markdown",
   "id": "0a29c722-3836-416d-af1c-08a0e7885b1b",
   "metadata": {},
   "source": [
    "### TONGS_CAST_CURR: 주조 과정에서 ‘Tongs’ 장비(Tongs: 주로 제조 공정에서 무거운 금속 덩어리를 집거나 옮기는 집게 같은 장비)에 흐르는 전류값"
   ]
  },
  {
   "cell_type": "code",
   "execution_count": null,
   "id": "a3e3b18d-8993-4ddf-bcdf-4e7fac68fcc3",
   "metadata": {},
   "outputs": [],
   "source": [
    "print(dev_df.columns.tolist())\n"
   ]
  },
  {
   "cell_type": "code",
   "execution_count": null,
   "id": "7a054fba-5c4a-472e-b8db-0dd85bd9933e",
   "metadata": {},
   "outputs": [],
   "source": [
    "import pandas as pd\n",
    "import numpy as np\n",
    "\n",
    "plot_efficiency_comparison(dev_df, 'MAIN_MOTOR_CURR.xlsx_dev', 'TONGS_CAST_CURR')\n",
    "\n",
    "# 하나의 DataFrame으로 병합 (열 방향)\n",
    "merged_df = pd.concat([df, df2], axis=1)\n",
    "merged_df.columns = ['MAIN_MOTOR_CURR', 'TONGS_CAST_CURR']  # 컬럼 이름 정리\n",
    "\n",
    "# 평균 계산\n",
    "main_avg = merged_df['MAIN_MOTOR_CURR'].mean()\n",
    "tongs_avg = merged_df['TONGS_CAST_CURR'].mean()\n",
    "\n",
    "# 절대 평균 차이 계산\n",
    "merged_df['MAIN_DIFF'] = np.abs(merged_df['MAIN_MOTOR_CURR'] - main_avg)\n",
    "merged_df['TONGS_DIFF'] = np.abs(merged_df['TONGS_CAST_CURR'] - tongs_avg)\n",
    "\n",
    "# 두 컬럼 평균차이의 총합 또는 평균 기준으로 정렬 (선택적 기준)\n",
    "merged_df['TOTAL_DIFF'] = merged_df[['MAIN_DIFF', 'TONGS_DIFF']].mean(axis=1)\n",
    "\n",
    "# 상위 N개 추출\n",
    "top_n = 50  # 원하는 개수로 조정 가능\n",
    "top_df = merged_df.sort_values(by='TOTAL_DIFF', ascending=False).head(top_n)\n",
    "\n",
    "# 필요 없는 열 제거 (선택)\n",
    "top_df = top_df[['MAIN_MOTOR_CURR', 'TONGS_CAST_CURR', 'MAIN_DIFF', 'TONGS_DIFF', 'TOTAL_DIFF']]\n",
    "\n",
    "# 인덱스 열로 구분이 되도록 설정\n",
    "top_df.reset_index(inplace=True)\n",
    "top_df.rename(columns={'index': 'Row_Index'}, inplace=True)\n",
    "\n",
    "# 결과 저장 (Tableau에서 불러올 수 있게)\n",
    "top_df.to_csv(\"top_efficiency_outliers.csv\", index=False)\n"
   ]
  },
  {
   "cell_type": "code",
   "execution_count": null,
   "id": "54f785b3-3245-4ea3-9b18-023a2d3287e8",
   "metadata": {},
   "outputs": [],
   "source": []
  },
  {
   "cell_type": "code",
   "execution_count": null,
   "id": "43f94df0-1211-4473-8aa8-03102224cda5",
   "metadata": {},
   "outputs": [],
   "source": []
  },
  {
   "cell_type": "code",
   "execution_count": null,
   "id": "8b2e0d02-8894-433b-a75c-a14224184228",
   "metadata": {},
   "outputs": [],
   "source": []
  },
  {
   "cell_type": "code",
   "execution_count": null,
   "id": "fe95c677-2261-4477-a6ed-797d29114d7f",
   "metadata": {},
   "outputs": [],
   "source": []
  },
  {
   "cell_type": "code",
   "execution_count": null,
   "id": "f9405b98-0e50-431f-97e1-56f7a5c041d8",
   "metadata": {},
   "outputs": [],
   "source": []
  },
  {
   "cell_type": "code",
   "execution_count": null,
   "id": "7987f1f9-3b33-4f5a-8ae9-d54cce294d39",
   "metadata": {},
   "outputs": [],
   "source": []
  },
  {
   "cell_type": "code",
   "execution_count": null,
   "id": "cbfa06be-a014-4e06-918a-5b7fad5303f7",
   "metadata": {},
   "outputs": [],
   "source": []
  },
  {
   "cell_type": "code",
   "execution_count": null,
   "id": "79106c85-3377-4e51-91c8-b8e22b52fd92",
   "metadata": {},
   "outputs": [],
   "source": []
  },
  {
   "cell_type": "code",
   "execution_count": null,
   "id": "0141d8f6-b786-4ef7-9510-8c36cd33ecf9",
   "metadata": {},
   "outputs": [],
   "source": [
    "# 기준 통계량 평균값\n",
    "power_means = df[power_group].mean()\n",
    "\n",
    "# 각 항목별 편차율 계산\n",
    "for col in power_group:\n",
    "    df[f'{col}_dev'] = np.abs(df[col] - power_means[col]) / power_means[col]\n",
    "\n",
    "# 편차율 합산 (가중치 없을 경우)\n",
    "df['total_power_deviation'] = df[[f'{col}_dev' for col in power_group]].sum(axis=1)\n",
    "\n",
    "# 상위 편차 큰 항목 정렬\n",
    "df_sorted = df.sort_values('total_power_deviation', ascending=False)\n",
    "df_sorted"
   ]
  },
  {
   "cell_type": "code",
   "execution_count": null,
   "id": "a02b0f99-8814-412b-b9be-698bfc3c14ae",
   "metadata": {},
   "outputs": [],
   "source": [
    "# 예: power_group = ['MAIN_MOTOR_CURR.xlsx', 'MAIN_MOTOR_SET_FREQ.xlsx', 'MAIN_AIR_PRESS.xlsx', ...]\n",
    "\n",
    "# 편차율 컬럼들 계산 (예시 코드)\n",
    "dev_df = pd.DataFrame()\n",
    "\n",
    "for col in power_group:\n",
    "    dev_col_name = f'{col}_dev'\n",
    "    dev_df[dev_col_name] = (df[col] - df[col].mean()) / df[col].mean()\n",
    "dev_df"
   ]
  },
  {
   "cell_type": "code",
   "execution_count": null,
   "id": "d2033137-ac5e-42fe-a1ae-5fbe4234c6bd",
   "metadata": {},
   "outputs": [],
   "source": []
  },
  {
   "cell_type": "code",
   "execution_count": null,
   "id": "d4064bd2-238a-46ee-a26d-3dc9f51f1ea5",
   "metadata": {},
   "outputs": [],
   "source": []
  },
  {
   "cell_type": "code",
   "execution_count": null,
   "id": "447b2847-41f3-4161-91a4-d2e77cdc8b86",
   "metadata": {},
   "outputs": [],
   "source": []
  }
 ],
 "metadata": {
  "kernelspec": {
   "display_name": "Python 3 (ipykernel)",
   "language": "python",
   "name": "python3"
  },
  "language_info": {
   "codemirror_mode": {
    "name": "ipython",
    "version": 3
   },
   "file_extension": ".py",
   "mimetype": "text/x-python",
   "name": "python",
   "nbconvert_exporter": "python",
   "pygments_lexer": "ipython3",
   "version": "3.13.5"
  }
 },
 "nbformat": 4,
 "nbformat_minor": 5
}

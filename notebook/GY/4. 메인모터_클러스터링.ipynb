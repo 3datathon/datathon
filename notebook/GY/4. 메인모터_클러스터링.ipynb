{
 "cells": [
  {
   "cell_type": "code",
   "execution_count": null,
   "id": "e632cd73-88cf-4b13-8943-de8b060a8dc7",
   "metadata": {},
   "outputs": [],
   "source": [
    "#### 기본\n",
    "import pandas as pd\n",
    "import numpy as np\n",
    "import matplotlib.pyplot as plt\n",
    "import seaborn as sns\n",
    "import glob\n",
    "import os\n",
    "\n",
    "\n",
    "# 경고 뜨지 않게 설정\n",
    "import warnings\n",
    "warnings.filterwarnings('ignore')\n",
    "\n",
    "# 그래프 설정\n",
    "sns.set()\n",
    "\n",
    "# 그래프 기본 설정\n",
    "#plt.rcParams['font.family'] = 'Malgun Gothic'\n",
    "plt.rcParams['font.family'] = 'AppleGothic'\n",
    "plt.rcParams['figure.figsize'] = 12, 6\n",
    "plt.rcParams['font.size'] = 14\n",
    "plt.rcParams['axes.unicode_minus'] = False\n",
    "\n",
    "# 데이터 전처리 알고리즘\n",
    "from sklearn.preprocessing import LabelEncoder\n",
    "from sklearn.preprocessing import StandardScaler\n",
    "\n",
    "# 학습용과 검증용으로 나누는 함수\n",
    "from sklearn.model_selection import train_test_split\n",
    "\n",
    "# 교차 검증\n",
    "from sklearn.model_selection import cross_val_score\n",
    "from sklearn.model_selection import cross_validate\n",
    "from sklearn.model_selection import KFold\n",
    "from sklearn.model_selection import StratifiedKFold\n",
    "\n",
    "# 평가함수\n",
    "# 분류용\n",
    "from sklearn.metrics import accuracy_score\n",
    "from sklearn.metrics import precision_score\n",
    "from sklearn.metrics import recall_score\n",
    "from sklearn.metrics import f1_score\n",
    "from sklearn.metrics import roc_auc_score\n",
    "\n",
    "# 회귀용\n",
    "from sklearn.metrics import r2_score\n",
    "from sklearn.metrics import mean_squared_error\n",
    "\n",
    "# 모델의 최적의 하이퍼 파라미터를 찾기 위한 도구\n",
    "from sklearn.model_selection import GridSearchCV\n",
    "\n",
    "# 머신러닝 알고리즘 - 분류\n",
    "from sklearn.neighbors import KNeighborsClassifier\n",
    "from sklearn.linear_model import LogisticRegression\n",
    "from sklearn.svm import SVC\n",
    "from sklearn.tree import DecisionTreeClassifier\n",
    "from sklearn.ensemble import RandomForestClassifier\n",
    "from sklearn.ensemble import AdaBoostClassifier\n",
    "from sklearn.ensemble import GradientBoostingClassifier\n",
    "from lightgbm import LGBMClassifier\n",
    "from xgboost import XGBClassifier\n",
    "from sklearn.ensemble import VotingClassifier\n",
    "\n",
    "# 머신러닝 알고리즘 - 회귀\n",
    "from sklearn.neighbors import KNeighborsRegressor\n",
    "from sklearn.linear_model import LinearRegression\n",
    "from sklearn.linear_model import Ridge\n",
    "from sklearn.linear_model import Lasso\n",
    "from sklearn.linear_model import ElasticNet\n",
    "from sklearn.svm import SVR\n",
    "from sklearn.tree import DecisionTreeRegressor\n",
    "from sklearn.ensemble import RandomForestRegressor\n",
    "from sklearn.ensemble import AdaBoostRegressor\n",
    "from sklearn.ensemble import GradientBoostingRegressor\n",
    "from lightgbm import LGBMRegressor\n",
    "from xgboost import XGBRegressor\n",
    "from sklearn.ensemble import VotingRegressor\n",
    "\n",
    "# 학습 모델 저장을 위한 라이브러리\n",
    "import pickle"
   ]
  },
  {
   "cell_type": "code",
   "execution_count": 2,
   "id": "20a1a770-74e8-434d-b123-eb19f2b95653",
   "metadata": {},
   "outputs": [],
   "source": [
    "# CSV 파일 불러오기\n",
    "df = pd.read_csv('/Users/kimgayeong/Desktop/데이터톤/data 3/실습데이터.csv') "
   ]
  },
  {
   "cell_type": "code",
   "execution_count": 3,
   "id": "6ed75fa8-8aa4-4251-9047-53eff98788cf",
   "metadata": {},
   "outputs": [],
   "source": [
    "df1 = pd.read_csv('/Users/kimgayeong/Desktop/데이터톤/data 3/raw_total_data.csv')"
   ]
  },
  {
   "cell_type": "code",
   "execution_count": 4,
   "id": "8a5a6768-f085-4d00-b0be-d9bcc8987f96",
   "metadata": {},
   "outputs": [
    {
     "name": "stdout",
     "output_type": "stream",
     "text": [
      "Timestamp                            0\n",
      "OUTPUT_COUNT_DAY_1.xlsx              0\n",
      "KO6_MOTOR_SET_FREQ.xlsx              0\n",
      "CUTTING_SET_FREQ.xlsx                0\n",
      "STATUS.xlsx                          0\n",
      "KO5_MOTOR_SET_FREQ.xlsx              0\n",
      "METAL_OIL_SUPPLY_PRESS_CONTR.xlsx    0\n",
      "KO4_MOTOR_SET_FREQ.xlsx              0\n",
      "KO2_MOTOR_SET_FREQ.xlsx              0\n",
      "MAIN_MOTOR_CURR.xlsx                 0\n",
      "KO3_MOTOR_SET_FREQ.xlsx              0\n",
      "TRANS_POS_UP_SET_H.xlsx              0\n",
      "TRANS_POS_RIGHT_SET_L.xlsx           0\n",
      "TONGS_INVERTER_ALM_ERR_CD.xlsx       0\n",
      "KO1_MOTOR_SET_FREQ.xlsx              0\n",
      "KO3_MOTOR_INVERTER_ALM.xlsx          0\n",
      "MAIN_MOTOR_RPM.xlsx                  0\n",
      "TRANS_CURR.xlsx                      0\n",
      "KO1_MOTOR_CURR.xlsx                  0\n",
      "TRANS_INVERTER_ALM_ERR_CD.xlsx       0\n",
      "TONGS_CAST_SET_FREQ.xlsx             0\n",
      "TRANS_POS_LEFT_SET_H.xlsx            0\n",
      "KO4_MOTOR_INVERTER_ALM.xlsx          0\n",
      "TRANS_POS_DOWN_SET_L.xlsx            0\n",
      "KO6_MOTOR_CURR.xlsx                  0\n",
      "OIL_SUPPLY_PRESS.xlsx                0\n",
      "KO2_MOTOR_INVERTER_ALM.xlsx          0\n",
      "KO3_MOTOR_CURR.xlsx                  0\n",
      "TRANS_POS_UP.xlsx                    0\n",
      "TONGS_POS.xlsx                       0\n",
      "WORK_OIL_SUPPLY_PRESS.xlsx           0\n",
      "METAL_TEMP_CONTROL.xlsx              0\n",
      "TONGS_CAST_CURR.xlsx                 0\n",
      "CUTTING_INVERTER_ALM_ERR_CD.xlsx     0\n",
      "KO6_MOTOR_INVERTER_ALM.xlsx          0\n",
      "TRANS_POS_RIGHT_SET_H.xlsx           0\n",
      "TRANS_POS_UP_SET_L.xlsx              0\n",
      "TRANS_POS_LEFT.xlsx                  0\n",
      "KO4_MOTOR_CURR.xlsx                  0\n",
      "METAL_OIL_SUPPLY_PRESS_CUT.xlsx      0\n",
      "MAIN_AIR_PRESS.xlsx                  0\n",
      "TRANS_POS_LEFT_SET_L.xlsx            0\n",
      "TRANS_SET_FREQ.xlsx                  0\n",
      "METAL_TEMP_CUT.xlsx                  0\n",
      "KO5_MOTOR_INVERTER_ALM.xlsx          0\n",
      "MAIN_MOTOR_SET_FREQ.xlsx             0\n",
      "OIL_PRESS_LEVEL_ALM.xlsx             0\n",
      "CUTTING_CURR.xlsx                    0\n",
      "KO5_MOTOR_CURR.xlsx                  0\n",
      "KO2_MOTOR_CURR.xlsx                  0\n",
      "KO1_MOTOR_INVERTER_ALM.xlsx          0\n",
      "TRANS_POS_DOWN_SET_H.xlsx            0\n",
      "OUTPUT_COUNT_DAY_2.xlsx              0\n",
      "OUTPUT_COUNT_SUM.xlsx                0\n",
      "TRANS_POS_DOWN.xlsx                  0\n",
      "TRANS_POS_RIGHT.xlsx                 0\n",
      "MAIN_MOTOR_ALM.xlsx                  0\n",
      "dtype: int64\n",
      "Unnamed: 0                                0\n",
      "Timestamp                                 0\n",
      "OUTPUT_COUNT_DAY_1.xlsx              107097\n",
      "KO6_MOTOR_SET_FREQ.xlsx              579266\n",
      "CUTTING_SET_FREQ.xlsx                579267\n",
      "STATUS.xlsx                          579159\n",
      "KO5_MOTOR_SET_FREQ.xlsx              579266\n",
      "METAL_OIL_SUPPLY_PRESS_CONTR.xlsx      1976\n",
      "KO4_MOTOR_SET_FREQ.xlsx              579266\n",
      "KO2_MOTOR_SET_FREQ.xlsx              579266\n",
      "MAIN_MOTOR_CURR.xlsx                  26238\n",
      "KO3_MOTOR_SET_FREQ.xlsx              579266\n",
      "TRANS_POS_UP_SET_H.xlsx              579266\n",
      "TRANS_POS_RIGHT_SET_L.xlsx           579266\n",
      "TONGS_INVERTER_ALM_ERR_CD.xlsx       579267\n",
      "KO1_MOTOR_SET_FREQ.xlsx              579266\n",
      "KO3_MOTOR_INVERTER_ALM.xlsx          579266\n",
      "MAIN_MOTOR_RPM.xlsx                  579010\n",
      "TRANS_CURR.xlsx                      579267\n",
      "KO1_MOTOR_CURR.xlsx                  579266\n",
      "TRANS_INVERTER_ALM_ERR_CD.xlsx       579267\n",
      "TONGS_CAST_SET_FREQ.xlsx             579229\n",
      "TRANS_POS_LEFT_SET_H.xlsx            579266\n",
      "KO4_MOTOR_INVERTER_ALM.xlsx          579266\n",
      "TRANS_POS_DOWN_SET_L.xlsx            579266\n",
      "KO6_MOTOR_CURR.xlsx                  579266\n",
      "OIL_SUPPLY_PRESS.xlsx                  1761\n",
      "KO2_MOTOR_INVERTER_ALM.xlsx          579266\n",
      "KO3_MOTOR_CURR.xlsx                  579266\n",
      "TRANS_POS_UP.xlsx                     80651\n",
      "TONGS_POS.xlsx                       579249\n",
      "WORK_OIL_SUPPLY_PRESS.xlsx            59810\n",
      "METAL_TEMP_CONTROL.xlsx              577135\n",
      "TONGS_CAST_CURR.xlsx                 578756\n",
      "CUTTING_INVERTER_ALM_ERR_CD.xlsx     579265\n",
      "KO6_MOTOR_INVERTER_ALM.xlsx          579266\n",
      "TRANS_POS_RIGHT_SET_H.xlsx           579266\n",
      "TRANS_POS_UP_SET_L.xlsx              579266\n",
      "TRANS_POS_LEFT.xlsx                   75847\n",
      "KO4_MOTOR_CURR.xlsx                  579266\n",
      "METAL_OIL_SUPPLY_PRESS_CUT.xlsx        2077\n",
      "MAIN_AIR_PRESS.xlsx                       0\n",
      "TRANS_POS_LEFT_SET_L.xlsx            579266\n",
      "TRANS_SET_FREQ.xlsx                  579267\n",
      "METAL_TEMP_CUT.xlsx                  577152\n",
      "KO5_MOTOR_INVERTER_ALM.xlsx          579266\n",
      "MAIN_MOTOR_SET_FREQ.xlsx             579267\n",
      "OIL_PRESS_LEVEL_ALM.xlsx             579267\n",
      "CUTTING_CURR.xlsx                    579267\n",
      "KO5_MOTOR_CURR.xlsx                  579266\n",
      "KO2_MOTOR_CURR.xlsx                  579266\n",
      "KO1_MOTOR_INVERTER_ALM.xlsx          579264\n",
      "TRANS_POS_DOWN_SET_H.xlsx            579266\n",
      "OUTPUT_COUNT_DAY_2.xlsx              107103\n",
      "OUTPUT_COUNT_SUM.xlsx                567657\n",
      "TRANS_POS_DOWN.xlsx                   86434\n",
      "TRANS_POS_RIGHT.xlsx                  33109\n",
      "MAIN_MOTOR_ALM.xlsx                  579265\n",
      "dtype: int64\n",
      "Timestamp                            0.0\n",
      "OUTPUT_COUNT_DAY_1.xlsx              0.0\n",
      "KO6_MOTOR_SET_FREQ.xlsx              0.0\n",
      "CUTTING_SET_FREQ.xlsx                0.0\n",
      "STATUS.xlsx                          0.0\n",
      "KO5_MOTOR_SET_FREQ.xlsx              0.0\n",
      "METAL_OIL_SUPPLY_PRESS_CONTR.xlsx    0.0\n",
      "KO4_MOTOR_SET_FREQ.xlsx              0.0\n",
      "KO2_MOTOR_SET_FREQ.xlsx              0.0\n",
      "MAIN_MOTOR_CURR.xlsx                 0.0\n",
      "KO3_MOTOR_SET_FREQ.xlsx              0.0\n",
      "TRANS_POS_UP_SET_H.xlsx              0.0\n",
      "TRANS_POS_RIGHT_SET_L.xlsx           0.0\n",
      "TONGS_INVERTER_ALM_ERR_CD.xlsx       0.0\n",
      "KO1_MOTOR_SET_FREQ.xlsx              0.0\n",
      "KO3_MOTOR_INVERTER_ALM.xlsx          0.0\n",
      "MAIN_MOTOR_RPM.xlsx                  0.0\n",
      "TRANS_CURR.xlsx                      0.0\n",
      "KO1_MOTOR_CURR.xlsx                  0.0\n",
      "TRANS_INVERTER_ALM_ERR_CD.xlsx       0.0\n",
      "TONGS_CAST_SET_FREQ.xlsx             0.0\n",
      "TRANS_POS_LEFT_SET_H.xlsx            0.0\n",
      "KO4_MOTOR_INVERTER_ALM.xlsx          0.0\n",
      "TRANS_POS_DOWN_SET_L.xlsx            0.0\n",
      "KO6_MOTOR_CURR.xlsx                  0.0\n",
      "OIL_SUPPLY_PRESS.xlsx                0.0\n",
      "KO2_MOTOR_INVERTER_ALM.xlsx          0.0\n",
      "KO3_MOTOR_CURR.xlsx                  0.0\n",
      "TRANS_POS_UP.xlsx                    0.0\n",
      "TONGS_POS.xlsx                       0.0\n",
      "WORK_OIL_SUPPLY_PRESS.xlsx           0.0\n",
      "METAL_TEMP_CONTROL.xlsx              0.0\n",
      "TONGS_CAST_CURR.xlsx                 0.0\n",
      "CUTTING_INVERTER_ALM_ERR_CD.xlsx     0.0\n",
      "KO6_MOTOR_INVERTER_ALM.xlsx          0.0\n",
      "TRANS_POS_RIGHT_SET_H.xlsx           0.0\n",
      "TRANS_POS_UP_SET_L.xlsx              0.0\n",
      "TRANS_POS_LEFT.xlsx                  0.0\n",
      "KO4_MOTOR_CURR.xlsx                  0.0\n",
      "METAL_OIL_SUPPLY_PRESS_CUT.xlsx      0.0\n",
      "MAIN_AIR_PRESS.xlsx                  0.0\n",
      "TRANS_POS_LEFT_SET_L.xlsx            0.0\n",
      "TRANS_SET_FREQ.xlsx                  0.0\n",
      "METAL_TEMP_CUT.xlsx                  0.0\n",
      "KO5_MOTOR_INVERTER_ALM.xlsx          0.0\n",
      "MAIN_MOTOR_SET_FREQ.xlsx             0.0\n",
      "OIL_PRESS_LEVEL_ALM.xlsx             0.0\n",
      "CUTTING_CURR.xlsx                    0.0\n",
      "KO5_MOTOR_CURR.xlsx                  0.0\n",
      "KO2_MOTOR_CURR.xlsx                  0.0\n",
      "KO1_MOTOR_INVERTER_ALM.xlsx          0.0\n",
      "TRANS_POS_DOWN_SET_H.xlsx            0.0\n",
      "OUTPUT_COUNT_DAY_2.xlsx              0.0\n",
      "OUTPUT_COUNT_SUM.xlsx                0.0\n",
      "TRANS_POS_DOWN.xlsx                  0.0\n",
      "TRANS_POS_RIGHT.xlsx                 0.0\n",
      "MAIN_MOTOR_ALM.xlsx                  0.0\n",
      "dtype: float64\n",
      "Unnamed: 0                            0.000000\n",
      "Timestamp                             0.000000\n",
      "OUTPUT_COUNT_DAY_1.xlsx              18.487408\n",
      "KO6_MOTOR_SET_FREQ.xlsx              99.994649\n",
      "CUTTING_SET_FREQ.xlsx                99.994821\n",
      "STATUS.xlsx                          99.976178\n",
      "KO5_MOTOR_SET_FREQ.xlsx              99.994649\n",
      "METAL_OIL_SUPPLY_PRESS_CONTR.xlsx     0.341103\n",
      "KO4_MOTOR_SET_FREQ.xlsx              99.994649\n",
      "KO2_MOTOR_SET_FREQ.xlsx              99.994649\n",
      "MAIN_MOTOR_CURR.xlsx                  4.529283\n",
      "KO3_MOTOR_SET_FREQ.xlsx              99.994649\n",
      "TRANS_POS_UP_SET_H.xlsx              99.994649\n",
      "TRANS_POS_RIGHT_SET_L.xlsx           99.994649\n",
      "TONGS_INVERTER_ALM_ERR_CD.xlsx       99.994821\n",
      "KO1_MOTOR_SET_FREQ.xlsx              99.994649\n",
      "KO3_MOTOR_INVERTER_ALM.xlsx          99.994649\n",
      "MAIN_MOTOR_RPM.xlsx                  99.950457\n",
      "TRANS_CURR.xlsx                      99.994821\n",
      "KO1_MOTOR_CURR.xlsx                  99.994649\n",
      "TRANS_INVERTER_ALM_ERR_CD.xlsx       99.994821\n",
      "TONGS_CAST_SET_FREQ.xlsx             99.988262\n",
      "TRANS_POS_LEFT_SET_H.xlsx            99.994649\n",
      "KO4_MOTOR_INVERTER_ALM.xlsx          99.994649\n",
      "TRANS_POS_DOWN_SET_L.xlsx            99.994649\n",
      "KO6_MOTOR_CURR.xlsx                  99.994649\n",
      "OIL_SUPPLY_PRESS.xlsx                 0.303989\n",
      "KO2_MOTOR_INVERTER_ALM.xlsx          99.994649\n",
      "KO3_MOTOR_CURR.xlsx                  99.994649\n",
      "TRANS_POS_UP.xlsx                    13.922220\n",
      "TONGS_POS.xlsx                       99.991714\n",
      "WORK_OIL_SUPPLY_PRESS.xlsx           10.324583\n",
      "METAL_TEMP_CONTROL.xlsx              99.626789\n",
      "TONGS_CAST_CURR.xlsx                 99.906611\n",
      "CUTTING_INVERTER_ALM_ERR_CD.xlsx     99.994476\n",
      "KO6_MOTOR_INVERTER_ALM.xlsx          99.994649\n",
      "TRANS_POS_RIGHT_SET_H.xlsx           99.994649\n",
      "TRANS_POS_UP_SET_L.xlsx              99.994649\n",
      "TRANS_POS_LEFT.xlsx                  13.092939\n",
      "KO4_MOTOR_CURR.xlsx                  99.994649\n",
      "METAL_OIL_SUPPLY_PRESS_CUT.xlsx       0.358538\n",
      "MAIN_AIR_PRESS.xlsx                   0.000000\n",
      "TRANS_POS_LEFT_SET_L.xlsx            99.994649\n",
      "TRANS_SET_FREQ.xlsx                  99.994821\n",
      "METAL_TEMP_CUT.xlsx                  99.629724\n",
      "KO5_MOTOR_INVERTER_ALM.xlsx          99.994649\n",
      "MAIN_MOTOR_SET_FREQ.xlsx             99.994821\n",
      "OIL_PRESS_LEVEL_ALM.xlsx             99.994821\n",
      "CUTTING_CURR.xlsx                    99.994821\n",
      "KO5_MOTOR_CURR.xlsx                  99.994649\n",
      "KO2_MOTOR_CURR.xlsx                  99.994649\n",
      "KO1_MOTOR_INVERTER_ALM.xlsx          99.994303\n",
      "TRANS_POS_DOWN_SET_H.xlsx            99.994649\n",
      "OUTPUT_COUNT_DAY_2.xlsx              18.488444\n",
      "OUTPUT_COUNT_SUM.xlsx                97.990668\n",
      "TRANS_POS_DOWN.xlsx                  14.920498\n",
      "TRANS_POS_RIGHT.xlsx                  5.715376\n",
      "MAIN_MOTOR_ALM.xlsx                  99.994476\n",
      "dtype: float64\n",
      "Empty DataFrame\n",
      "Columns: [Timestamp, OUTPUT_COUNT_DAY_1.xlsx, KO6_MOTOR_SET_FREQ.xlsx, CUTTING_SET_FREQ.xlsx, STATUS.xlsx, KO5_MOTOR_SET_FREQ.xlsx, METAL_OIL_SUPPLY_PRESS_CONTR.xlsx, KO4_MOTOR_SET_FREQ.xlsx, KO2_MOTOR_SET_FREQ.xlsx, MAIN_MOTOR_CURR.xlsx, KO3_MOTOR_SET_FREQ.xlsx, TRANS_POS_UP_SET_H.xlsx, TRANS_POS_RIGHT_SET_L.xlsx, TONGS_INVERTER_ALM_ERR_CD.xlsx, KO1_MOTOR_SET_FREQ.xlsx, KO3_MOTOR_INVERTER_ALM.xlsx, MAIN_MOTOR_RPM.xlsx, TRANS_CURR.xlsx, KO1_MOTOR_CURR.xlsx, TRANS_INVERTER_ALM_ERR_CD.xlsx, TONGS_CAST_SET_FREQ.xlsx, TRANS_POS_LEFT_SET_H.xlsx, KO4_MOTOR_INVERTER_ALM.xlsx, TRANS_POS_DOWN_SET_L.xlsx, KO6_MOTOR_CURR.xlsx, OIL_SUPPLY_PRESS.xlsx, KO2_MOTOR_INVERTER_ALM.xlsx, KO3_MOTOR_CURR.xlsx, TRANS_POS_UP.xlsx, TONGS_POS.xlsx, WORK_OIL_SUPPLY_PRESS.xlsx, METAL_TEMP_CONTROL.xlsx, TONGS_CAST_CURR.xlsx, CUTTING_INVERTER_ALM_ERR_CD.xlsx, KO6_MOTOR_INVERTER_ALM.xlsx, TRANS_POS_RIGHT_SET_H.xlsx, TRANS_POS_UP_SET_L.xlsx, TRANS_POS_LEFT.xlsx, KO4_MOTOR_CURR.xlsx, METAL_OIL_SUPPLY_PRESS_CUT.xlsx, MAIN_AIR_PRESS.xlsx, TRANS_POS_LEFT_SET_L.xlsx, TRANS_SET_FREQ.xlsx, METAL_TEMP_CUT.xlsx, KO5_MOTOR_INVERTER_ALM.xlsx, MAIN_MOTOR_SET_FREQ.xlsx, OIL_PRESS_LEVEL_ALM.xlsx, CUTTING_CURR.xlsx, KO5_MOTOR_CURR.xlsx, KO2_MOTOR_CURR.xlsx, KO1_MOTOR_INVERTER_ALM.xlsx, TRANS_POS_DOWN_SET_H.xlsx, OUTPUT_COUNT_DAY_2.xlsx, OUTPUT_COUNT_SUM.xlsx, TRANS_POS_DOWN.xlsx, TRANS_POS_RIGHT.xlsx, MAIN_MOTOR_ALM.xlsx]\n",
      "Index: []\n",
      "\n",
      "[0 rows x 57 columns]\n",
      "   Unnamed: 0             Timestamp  OUTPUT_COUNT_DAY_1.xlsx  \\\n",
      "1           1  2022-05-02 06:32:34                       NaN   \n",
      "2           2  2022-05-02 06:32:35                       NaN   \n",
      "3           3  2022-05-02 06:32:36                       NaN   \n",
      "4           4  2022-05-02 06:32:37                       NaN   \n",
      "5           5  2022-05-02 06:32:38                       NaN   \n",
      "\n",
      "   KO6_MOTOR_SET_FREQ.xlsx  CUTTING_SET_FREQ.xlsx  STATUS.xlsx  \\\n",
      "1                      NaN                    NaN          NaN   \n",
      "2                      NaN                    NaN          NaN   \n",
      "3                      NaN                    NaN          NaN   \n",
      "4                      NaN                    NaN          NaN   \n",
      "5                      NaN                    NaN          NaN   \n",
      "\n",
      "   KO5_MOTOR_SET_FREQ.xlsx  METAL_OIL_SUPPLY_PRESS_CONTR.xlsx  \\\n",
      "1                      NaN                            798.000   \n",
      "2                      NaN                            794.000   \n",
      "3                      NaN                            788.600   \n",
      "4                      NaN                            804.200   \n",
      "5                      NaN                            807.111   \n",
      "\n",
      "   KO4_MOTOR_SET_FREQ.xlsx  KO2_MOTOR_SET_FREQ.xlsx  ...  CUTTING_CURR.xlsx  \\\n",
      "1                      NaN                      NaN  ...                NaN   \n",
      "2                      NaN                      NaN  ...                NaN   \n",
      "3                      NaN                      NaN  ...                NaN   \n",
      "4                      NaN                      NaN  ...                NaN   \n",
      "5                      NaN                      NaN  ...                NaN   \n",
      "\n",
      "   KO5_MOTOR_CURR.xlsx  KO2_MOTOR_CURR.xlsx  KO1_MOTOR_INVERTER_ALM.xlsx  \\\n",
      "1                  NaN                  NaN                          NaN   \n",
      "2                  NaN                  NaN                          NaN   \n",
      "3                  NaN                  NaN                          NaN   \n",
      "4                  NaN                  NaN                          NaN   \n",
      "5                  NaN                  NaN                          NaN   \n",
      "\n",
      "   TRANS_POS_DOWN_SET_H.xlsx  OUTPUT_COUNT_DAY_2.xlsx  OUTPUT_COUNT_SUM.xlsx  \\\n",
      "1                        NaN                      NaN                    NaN   \n",
      "2                        NaN                      NaN                    NaN   \n",
      "3                        NaN                      NaN                    NaN   \n",
      "4                        NaN                      NaN                    NaN   \n",
      "5                        NaN                      NaN                    NaN   \n",
      "\n",
      "   TRANS_POS_DOWN.xlsx  TRANS_POS_RIGHT.xlsx  MAIN_MOTOR_ALM.xlsx  \n",
      "1                  NaN               2322.57                  NaN  \n",
      "2                  NaN               2322.42                  NaN  \n",
      "3                  NaN               2322.50                  NaN  \n",
      "4                  NaN               2322.57                  NaN  \n",
      "5                  NaN               2322.40                  NaN  \n",
      "\n",
      "[5 rows x 58 columns]\n"
     ]
    }
   ],
   "source": [
    "# 1. 컬럼별 결측치 개수 확인\n",
    "print(df.isnull().sum())\n",
    "print(df1.isnull().sum())\n",
    "\n",
    "# 2. 결측치 비율 확인 (%)\n",
    "print(df.isnull().mean() * 100)\n",
    "print(df1.isnull().mean() * 100)\n",
    "\n",
    "# 3. 결측치가 있는 행만 보기\n",
    "missing_rows = df[df.isnull().any(axis=1)]\n",
    "print(missing_rows.head())\n",
    "missing_rows1 = df1[df1.isnull().any(axis=1)]\n",
    "print(missing_rows1.head())"
   ]
  },
  {
   "cell_type": "code",
   "execution_count": 5,
   "id": "cdc9ab2a-cc36-4851-96f2-bf9b1baa6d9a",
   "metadata": {},
   "outputs": [],
   "source": [
    "columns_to_drop = [\n",
    "    'KO6_MOTOR_SET_FREQ.xlsx', 'KO6_MOTOR_CURR.xlsx', 'KO6_MOTOR_INVERTER_ALM.xlsx',\n",
    "    'TRANS_POS_LEFT.xlsx', 'TRANS_POS_RIGHT.xlsx', 'TRANS_POS_UP.xlsx', 'TRANS_POS_DOWN.xlsx',\n",
    "    'TRANS_POS_LEFT_SET_H.xlsx', 'TRANS_POS_RIGHT_SET_H.xlsx', 'TRANS_POS_UP_SET_H.xlsx', 'TRANS_POS_DOWN_SET_H.xlsx',\n",
    "    'TRANS_POS_LEFT_SET_L.xlsx', 'TRANS_POS_RIGHT_SET_L.xlsx', 'TRANS_POS_UP_SET_L.xlsx', 'TRANS_POS_DOWN_SET_L.xlsx'\n",
    "]\n",
    "\n",
    "df = df.drop(columns=columns_to_drop, errors='ignore')"
   ]
  },
  {
   "cell_type": "code",
   "execution_count": 6,
   "id": "d8fa05f6-ecee-44ea-acc0-6eb4398aac7c",
   "metadata": {},
   "outputs": [],
   "source": [
    "columns_to_drop = [\n",
    "    'KO6_MOTOR_SET_FREQ.xlsx', 'KO6_MOTOR_CURR.xlsx', 'KO6_MOTOR_INVERTER_ALM.xlsx',\n",
    "    'TRANS_POS_LEFT.xlsx', 'TRANS_POS_RIGHT.xlsx', 'TRANS_POS_UP.xlsx', 'TRANS_POS_DOWN.xlsx',\n",
    "    'TRANS_POS_LEFT_SET_H.xlsx', 'TRANS_POS_RIGHT_SET_H.xlsx', 'TRANS_POS_UP_SET_H.xlsx', 'TRANS_POS_DOWN_SET_H.xlsx',\n",
    "    'TRANS_POS_LEFT_SET_L.xlsx', 'TRANS_POS_RIGHT_SET_L.xlsx', 'TRANS_POS_UP_SET_L.xlsx', 'TRANS_POS_DOWN_SET_L.xlsx'\n",
    "]\n",
    "\n",
    "df1 = df1.drop(columns=columns_to_drop, errors='ignore')"
   ]
  },
  {
   "cell_type": "code",
   "execution_count": 7,
   "id": "5512c661-ffeb-4610-9b6c-6f4ef19ce0f2",
   "metadata": {},
   "outputs": [],
   "source": [
    "from sklearn.cluster import KMeans\n",
    "\n",
    "features = df[['MAIN_MOTOR_SET_FREQ.xlsx', 'MAIN_MOTOR_CURR.xlsx', 'MAIN_MOTOR_RPM.xlsx']].dropna()\n",
    "kmeans = KMeans(n_clusters=3).fit(features)\n",
    "df['cluster'] = kmeans.labels_"
   ]
  },
  {
   "cell_type": "code",
   "execution_count": 8,
   "id": "1534b53f-773f-42b0-9fff-e234e37c60ff",
   "metadata": {},
   "outputs": [
    {
     "name": "stdout",
     "output_type": "stream",
     "text": [
      "   MAIN_MOTOR_SET_FREQ.xlsx  MAIN_MOTOR_CURR.xlsx  MAIN_MOTOR_RPM.xlsx\n",
      "0               4136.404545           4736.077223         12971.704545\n",
      "1               2168.833013           4790.302500          8099.922065\n",
      "2               2214.222437             19.087541             6.822272\n"
     ]
    }
   ],
   "source": [
    "cluster_centers = pd.DataFrame(kmeans.cluster_centers_, columns=features.columns)\n",
    "print(cluster_centers)"
   ]
  },
  {
   "cell_type": "code",
   "execution_count": 9,
   "id": "625c9157-5ee2-4ada-a5fa-db554cd5526e",
   "metadata": {},
   "outputs": [
    {
     "data": {
      "image/png": "[encoded data removed]",
      "text/plain": [
       "<Figure size 800x600 with 1 Axes>"
      ]
     },
     "metadata": {},
     "output_type": "display_data"
    }
   ],
   "source": [
    "import seaborn as sns\n",
    "import matplotlib.pyplot as plt\n",
    "\n",
    "plt.figure(figsize=(8, 6))\n",
    "sns.scatterplot(data=df, x='MAIN_MOTOR_SET_FREQ.xlsx', y='MAIN_MOTOR_RPM.xlsx', hue='cluster', palette='Set1')\n",
    "plt.title('클러스터별 설정 주파수 vs 회전수(RPM)')\n",
    "plt.xlabel('설정 주파수')\n",
    "plt.ylabel('회전수 (RPM)')\n",
    "plt.grid(True)\n",
    "plt.show()"
   ]
  },
  {
   "cell_type": "code",
   "execution_count": 52,
   "id": "2f5694b3-fe1a-4da3-ad57-aec992f3460c",
   "metadata": {},
   "outputs": [
    {
     "data": {
      "text/html": [
       "<div>\n",
       "<style scoped>\n",
       "    .dataframe tbody tr th:only-of-type {\n",
       "        vertical-align: middle;\n",
       "    }\n",
       "\n",
       "    .dataframe tbody tr th {\n",
       "        vertical-align: top;\n",
       "    }\n",
       "\n",
       "    .dataframe thead th {\n",
       "        text-align: right;\n",
       "    }\n",
       "</style>\n",
       "<table border=\"1\" class=\"dataframe\">\n",
       "  <thead>\n",
       "    <tr style=\"text-align: right;\">\n",
       "      <th></th>\n",
       "      <th>MAIN_MOTOR_SET_FREQ.xlsx</th>\n",
       "      <th>MAIN_MOTOR_CURR.xlsx</th>\n",
       "      <th>MAIN_MOTOR_RPM.xlsx</th>\n",
       "    </tr>\n",
       "    <tr>\n",
       "      <th>cluster</th>\n",
       "      <th></th>\n",
       "      <th></th>\n",
       "      <th></th>\n",
       "    </tr>\n",
       "  </thead>\n",
       "  <tbody>\n",
       "    <tr>\n",
       "      <th>0</th>\n",
       "      <td>4136.394161</td>\n",
       "      <td>4736.066432</td>\n",
       "      <td>12971.656708</td>\n",
       "    </tr>\n",
       "    <tr>\n",
       "      <th>1</th>\n",
       "      <td>2176.335330</td>\n",
       "      <td>3990.890737</td>\n",
       "      <td>6743.687097</td>\n",
       "    </tr>\n",
       "  </tbody>\n",
       "</table>\n",
       "</div>"
      ],
      "text/plain": [
       "         MAIN_MOTOR_SET_FREQ.xlsx  MAIN_MOTOR_CURR.xlsx  MAIN_MOTOR_RPM.xlsx\n",
       "cluster                                                                     \n",
       "0                     4136.394161           4736.066432         12971.656708\n",
       "1                     2176.335330           3990.890737          6743.687097"
      ]
     },
     "execution_count": 52,
     "metadata": {},
     "output_type": "execute_result"
    }
   ],
   "source": [
    "df.groupby('cluster')[['MAIN_MOTOR_SET_FREQ.xlsx', 'MAIN_MOTOR_CURR.xlsx', 'MAIN_MOTOR_RPM.xlsx']].mean()"
   ]
  },
  {
   "cell_type": "code",
   "execution_count": 11,
   "id": "9ffd242d-5977-4fbd-bf36-a8659997e657",
   "metadata": {},
   "outputs": [],
   "source": [
    "cluster_label_map = {\n",
    "    0: '정상',\n",
    "    1: '비효율',\n",
    "    2: '이상작동'\n",
    "}\n",
    "df['운전상태'] = df['cluster'].map(cluster_label_map)"
   ]
  },
  {
   "cell_type": "code",
   "execution_count": 24,
   "id": "be367038-fa03-40a0-a1ce-6c9ad1a128ec",
   "metadata": {},
   "outputs": [
    {
     "name": "stdout",
     "output_type": "stream",
     "text": [
      "         MAIN_MOTOR_CURR.xlsx  MAIN_MOTOR_RPM.xlsx\n",
      "cluster                                           \n",
      "0                 4736.066432         12971.656708\n",
      "1                 3990.890737          6743.687097\n"
     ]
    }
   ],
   "source": [
    "import pandas as pd\n",
    "from sklearn.cluster import KMeans\n",
    "\n",
    "# 주요 feature 추출\n",
    "features = df[['MAIN_MOTOR_SET_FREQ.xlsx', 'MAIN_MOTOR_CURR.xlsx', 'MAIN_MOTOR_RPM.xlsx']]\n",
    "\n",
    "# 클러스터링\n",
    "kmeans = KMeans(n_clusters=2, random_state=0)\n",
    "df['cluster'] = kmeans.fit_predict(features)\n",
    "\n",
    "# 클러스터별 평균 확인\n",
    "print(df.groupby('cluster')[['MAIN_MOTOR_CURR.xlsx', 'MAIN_MOTOR_RPM.xlsx']].mean())"
   ]
  },
  {
   "cell_type": "markdown",
   "id": "b2e02564-6737-4ec4-8c0b-7bddf2e9791c",
   "metadata": {},
   "source": [
    "## 전류 평균이 낮고, RPM은 높은 클러스터 → 고효율\n",
    "\n",
    "## 전류 평균이 높고, RPM은 낮은 클러스터 → 저효율"
   ]
  },
  {
   "cell_type": "code",
   "execution_count": 27,
   "id": "987ec948-933e-4da0-8a60-e794fa07c453",
   "metadata": {},
   "outputs": [
    {
     "name": "stdout",
     "output_type": "stream",
     "text": [
      "Cluster 0 효율지표: 2.7389\n",
      "Cluster 1 효율지표: 1.6898\n"
     ]
    }
   ],
   "source": [
    "eff_0 = 12971.66 / 4736.07  # Cluster 0\n",
    "eff_1 = 6743.69 / 3990.89   # Cluster 1\n",
    "\n",
    "print(f\"Cluster 0 효율지표: {eff_0:.4f}\")\n",
    "print(f\"Cluster 1 효율지표: {eff_1:.4f}\")"
   ]
  },
  {
   "cell_type": "markdown",
   "id": "41f2bdb6-39c0-405d-a505-bcc11e603185",
   "metadata": {},
   "source": [
    "# 클러스터0: 고효율"
   ]
  },
  {
   "cell_type": "code",
   "execution_count": 32,
   "id": "7dd9f173-5d46-4220-b4d2-72565bcab736",
   "metadata": {},
   "outputs": [
    {
     "name": "stdout",
     "output_type": "stream",
     "text": [
      "cluster\n",
      "0    474445\n",
      "1    104852\n",
      "Name: count, dtype: int64\n"
     ]
    }
   ],
   "source": [
    "cluster_counts = df['cluster'].value_counts().sort_index()\n",
    "print(cluster_counts)"
   ]
  },
  {
   "cell_type": "code",
   "execution_count": 34,
   "id": "e4775536-9d17-48ff-977e-6d01d429301c",
   "metadata": {},
   "outputs": [
    {
     "data": {
      "image/png": "[encoded data removed]",
      "text/plain": [
       "<Figure size 800x600 with 1 Axes>"
      ]
     },
     "metadata": {},
     "output_type": "display_data"
    }
   ],
   "source": [
    "import seaborn as sns\n",
    "import matplotlib.pyplot as plt\n",
    "\n",
    "# 효율 컬럼 생성\n",
    "df['efficiency'] = df['MAIN_MOTOR_RPM.xlsx'] / df['MAIN_MOTOR_CURR.xlsx']\n",
    "\n",
    "# 시각화\n",
    "plt.figure(figsize=(8, 6))\n",
    "sns.boxplot(data=df, x='cluster', y='efficiency', palette='Set2')\n",
    "plt.title('클러스터별 메인 모터 효율 (RPM / 전류)')\n",
    "plt.xlabel('클러스터')\n",
    "plt.ylabel('효율 (RPM / 전류)')\n",
    "plt.grid(True)\n",
    "plt.show()"
   ]
  },
  {
   "cell_type": "code",
   "execution_count": 36,
   "id": "04859dd4-8292-41a5-b888-7690af958acc",
   "metadata": {},
   "outputs": [
    {
     "name": "stdout",
     "output_type": "stream",
     "text": [
      "                      High Efficiency Mean  Low Efficiency Mean\n",
      "MAIN_MOTOR_RPM.xlsx           12971.656708          6743.687097\n",
      "MAIN_MOTOR_CURR.xlsx           4736.066432          3990.890737\n"
     ]
    }
   ],
   "source": [
    "high_eff_data = df[df['cluster'].isin([0])]\n",
    "low_eff_data = df[df['cluster'].isin([1])]\n",
    "\n",
    "variables_to_compare = ['MAIN_MOTOR_RPM.xlsx', 'MAIN_MOTOR_CURR.xlsx']  # 필요한 변수 추가 가능\n",
    "high_eff_stats = high_eff_data[variables_to_compare].mean()\n",
    "low_eff_stats = low_eff_data[variables_to_compare].mean()\n",
    "\n",
    "comparison_df = pd.DataFrame({\n",
    "    'High Efficiency Mean': high_eff_stats,\n",
    "    'Low Efficiency Mean': low_eff_stats\n",
    "})\n",
    "\n",
    "print(comparison_df)"
   ]
  },
  {
   "cell_type": "code",
   "execution_count": 38,
   "id": "e96073bb-b9f1-408c-bcec-4df288422461",
   "metadata": {},
   "outputs": [
    {
     "name": "stdout",
     "output_type": "stream",
     "text": [
      "MAIN_MOTOR_RPM.xlsx: p-value = 0.0000\n",
      "MAIN_MOTOR_CURR.xlsx: p-value = 0.0000\n"
     ]
    }
   ],
   "source": [
    "#두 클러스터 간의 값 차이가 '통계적으로 유의한가?'를 확인\n",
    "from scipy.stats import ttest_ind\n",
    "\n",
    "for var in variables_to_compare:\n",
    "    t_stat, p_value = ttest_ind(high_eff_data[var], low_eff_data[var], equal_var=False)\n",
    "    print(f\"{var}: p-value = {p_value:.4f}\")"
   ]
  },
  {
   "cell_type": "markdown",
   "id": "da500695-b22f-4be4-8138-7f26ea5d064a",
   "metadata": {},
   "source": [
    "MAIN_MOTOR_RPM.xlsx: p-value = 0.0000 → 고효율/저효율 클러스터 간 RPM 차이가 통계적으로 매우 유의미\n",
    "\n",
    "MAIN_MOTOR_CURR.xlsx: p-value = 0.0000 → 전류 역시 유의미하게 차이\n",
    "\n",
    "즉, 고효율과 저효율 클러스터는 RPM과 전류 모두에서 뚜렷한 차이를 보이며, 이는 단순한 우연이 아니라 실질적인 운전 조건의 차이에서 비롯된 것이라고 할 수 있어요."
   ]
  },
  {
   "cell_type": "code",
   "execution_count": 41,
   "id": "d2b0f1ab-a7f0-4cfd-8775-98cd449a40e2",
   "metadata": {},
   "outputs": [
    {
     "name": "stdout",
     "output_type": "stream",
     "text": [
      "['Timestamp', 'OUTPUT_COUNT_DAY_1.xlsx', 'CUTTING_SET_FREQ.xlsx', 'STATUS.xlsx', 'KO5_MOTOR_SET_FREQ.xlsx', 'METAL_OIL_SUPPLY_PRESS_CONTR.xlsx', 'KO4_MOTOR_SET_FREQ.xlsx', 'KO2_MOTOR_SET_FREQ.xlsx', 'MAIN_MOTOR_CURR.xlsx', 'KO3_MOTOR_SET_FREQ.xlsx', 'TONGS_INVERTER_ALM_ERR_CD.xlsx', 'KO1_MOTOR_SET_FREQ.xlsx', 'KO3_MOTOR_INVERTER_ALM.xlsx', 'MAIN_MOTOR_RPM.xlsx', 'TRANS_CURR.xlsx', 'KO1_MOTOR_CURR.xlsx', 'TRANS_INVERTER_ALM_ERR_CD.xlsx', 'TONGS_CAST_SET_FREQ.xlsx', 'KO4_MOTOR_INVERTER_ALM.xlsx', 'OIL_SUPPLY_PRESS.xlsx', 'KO2_MOTOR_INVERTER_ALM.xlsx', 'KO3_MOTOR_CURR.xlsx', 'TONGS_POS.xlsx', 'WORK_OIL_SUPPLY_PRESS.xlsx', 'METAL_TEMP_CONTROL.xlsx', 'TONGS_CAST_CURR.xlsx', 'CUTTING_INVERTER_ALM_ERR_CD.xlsx', 'KO4_MOTOR_CURR.xlsx', 'METAL_OIL_SUPPLY_PRESS_CUT.xlsx', 'MAIN_AIR_PRESS.xlsx', 'TRANS_SET_FREQ.xlsx', 'METAL_TEMP_CUT.xlsx', 'KO5_MOTOR_INVERTER_ALM.xlsx', 'MAIN_MOTOR_SET_FREQ.xlsx', 'OIL_PRESS_LEVEL_ALM.xlsx', 'CUTTING_CURR.xlsx', 'KO5_MOTOR_CURR.xlsx', 'KO2_MOTOR_CURR.xlsx', 'KO1_MOTOR_INVERTER_ALM.xlsx', 'OUTPUT_COUNT_DAY_2.xlsx', 'OUTPUT_COUNT_SUM.xlsx', 'MAIN_MOTOR_ALM.xlsx', 'cluster', '운전상태', 'efficiency']\n"
     ]
    }
   ],
   "source": [
    "print(df.columns.tolist())"
   ]
  },
  {
   "cell_type": "code",
   "execution_count": 43,
   "id": "b1621564-3cd6-4954-a873-50bde51d7643",
   "metadata": {},
   "outputs": [
    {
     "name": "stdout",
     "output_type": "stream",
     "text": [
      "efficiency                    1.000000\n",
      "MAIN_MOTOR_SET_FREQ.xlsx      0.532412\n",
      "MAIN_AIR_PRESS.xlsx           0.278735\n",
      "METAL_TEMP_CONTROL.xlsx       0.151507\n",
      "WORK_OIL_SUPPLY_PRESS.xlsx    0.136899\n",
      "METAL_TEMP_CUT.xlsx           0.129767\n",
      "OIL_SUPPLY_PRESS.xlsx        -0.038531\n",
      "MAIN_MOTOR_CURR.xlsx         -0.724555\n",
      "TRANS_CURR.xlsx                    NaN\n",
      "Name: efficiency, dtype: float64\n"
     ]
    }
   ],
   "source": [
    "# 분석 대상 변수들\n",
    "target_vars = [\n",
    "    'efficiency',\n",
    "    'MAIN_MOTOR_SET_FREQ.xlsx',\n",
    "    'MAIN_MOTOR_CURR.xlsx',\n",
    "    'TRANS_CURR.xlsx',\n",
    "    'OIL_SUPPLY_PRESS.xlsx',\n",
    "    'WORK_OIL_SUPPLY_PRESS.xlsx',\n",
    "    'MAIN_AIR_PRESS.xlsx',\n",
    "    'METAL_TEMP_CONTROL.xlsx',\n",
    "    'METAL_TEMP_CUT.xlsx'\n",
    "]\n",
    "\n",
    "# 상관관계 분석\n",
    "correlation = df[target_vars].corr()\n",
    "print(correlation['efficiency'].sort_values(ascending=False))"
   ]
  },
  {
   "cell_type": "markdown",
   "id": "363967dd-df9a-4e2c-902d-21f2c7eae39e",
   "metadata": {},
   "source": [
    "| 변수                                | 상관계수        | 해석                                     |\n",
    "| --------------------------------- | ----------- | -------------------------------------- |\n",
    "| **MAIN\\_MOTOR\\_CURR.xlsx**        | **-0.7246** | 가장 큰 음의 상관관계 → 전류가 클수록 효율 저하           |\n",
    "| **MAIN\\_MOTOR\\_SET\\_FREQ.xlsx**   | **+0.5324** | 주파수가 높을수록 효율 증가 → 목표 RPM이 높을수록 효율적인 운전 |\n",
    "| **MAIN\\_AIR\\_PRESS.xlsx**         | +0.2787     | 다소 양의 상관관계 → 공기압이 높을수록 효율 증가 가능성       |\n",
    "| **METAL\\_TEMP\\_CONTROL.xlsx**     | +0.1515     | 약한 양의 상관관계 → 높은 온도가 효율과 약간 연관          |\n",
    "| **WORK\\_OIL\\_SUPPLY\\_PRESS.xlsx** | +0.1369     | 거의 무관하지만 약한 양의 상관관계                    |\n",
    "| **METAL\\_TEMP\\_CUT.xlsx**         | +0.1298     | 거의 무관 수준의 관계                           |\n",
    "| **OIL\\_SUPPLY\\_PRESS.xlsx**       | -0.0385     | 상관 거의 없음                               |\n",
    "| **TRANS\\_CURR.xlsx**              | NaN         | 결측치 있음 → 데이터 자체가 부족하거나 전부 0일 수 있음      |"
   ]
  },
  {
   "cell_type": "code",
   "execution_count": null,
   "id": "0cd5835a-e0c4-408e-a865-9d384b419369",
   "metadata": {},
   "outputs": [],
   "source": []
  }
 ],
 "metadata": {
  "kernelspec": {
   "display_name": "Python [conda env:base] *",
   "language": "python",
   "name": "conda-base-py"
  },
  "language_info": {
   "codemirror_mode": {
    "name": "ipython",
    "version": 3
   },
   "file_extension": ".py",
   "mimetype": "text/x-python",
   "name": "python",
   "nbconvert_exporter": "python",
   "pygments_lexer": "ipython3",
   "version": "3.12.7"
  }
 },
 "nbformat": 4,
 "nbformat_minor": 5
}
